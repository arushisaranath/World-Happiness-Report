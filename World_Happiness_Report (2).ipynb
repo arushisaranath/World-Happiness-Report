{
  "nbformat": 4,
  "nbformat_minor": 0,
  "metadata": {
    "colab": {
      "provenance": []
    },
    "kernelspec": {
      "name": "python3",
      "display_name": "Python 3"
    },
    "language_info": {
      "name": "python"
    }
  },
  "cells": [
    {
      "cell_type": "code",
      "metadata": {
        "id": "PLTIaMB3ChSW"
      },
      "source": [
        "#install aimodelshare library\n",
        "! pip install aimodelshare --upgrade"
      ],
      "execution_count": null,
      "outputs": []
    },
    {
      "cell_type": "code",
      "source": [
        "#Get competition data from course folder and unzip\n",
        "# importing the zipfile module\n",
        "from zipfile import ZipFile\n",
        "  \n",
        "# loading the temp.zip and creating a zip object\n",
        "with ZipFile(\"world_happiness_competition_data.zip\", 'r') as zObject:\n",
        "  \n",
        "    # Extracting all the members of the zip \n",
        "    # into a specific location.\n",
        "    zObject.extractall()"
      ],
      "metadata": {
        "id": "l-YsXXXcUQ9G"
      },
      "execution_count": null,
      "outputs": []
    },
    {
      "cell_type": "code",
      "metadata": {
        "colab": {
          "base_uri": "https://localhost:8080/",
          "height": 302
        },
        "id": "jT0qFCZFNzHq",
        "outputId": "6162dc1f-5191-4b01-9c8f-56ca3791b5fe"
      },
      "source": [
        "# Load data\n",
        "import pandas as pd\n",
        "X_train = pd.read_csv('world_happiness_competition_data/X_train.csv')\n",
        "X_test = pd.read_csv('world_happiness_competition_data/X_test.csv')\n",
        "y_train = pd.read_csv('world_happiness_competition_data/y_train.csv')\n",
        "y_train_labels = y_train.idxmax(axis=1)\n",
        "\n",
        "X_train.head()"
      ],
      "execution_count": null,
      "outputs": [
        {
          "output_type": "execute_result",
          "data": {
            "text/plain": [
              "  Country or region  GDP per capita  Social support  Healthy life expectancy  \\\n",
              "0              Peru           0.960           1.274                    0.854   \n",
              "1         Nicaragua           0.694           1.325                    0.835   \n",
              "2            Greece           1.181           1.156                    0.999   \n",
              "3             Qatar           1.684           1.313                    0.871   \n",
              "4        Uzbekistan           0.745           1.529                    0.756   \n",
              "\n",
              "   Freedom to make life choices  Generosity  Perceptions of corruption  \\\n",
              "0                         0.455       0.083                      0.027   \n",
              "1                         0.435       0.200                      0.127   \n",
              "2                         0.067       0.000                      0.034   \n",
              "3                         0.555       0.220                      0.167   \n",
              "4                         0.631       0.322                      0.240   \n",
              "\n",
              "         name    region                       sub-region  Terrorist_attacks  \n",
              "0        Peru  Americas  Latin America and the Caribbean          18.000000  \n",
              "1   Nicaragua  Americas  Latin America and the Caribbean         125.611111  \n",
              "2      Greece    Europe                  Southern Europe         112.000000  \n",
              "3       Qatar      Asia                     Western Asia          57.333333  \n",
              "4  Uzbekistan      Asia                     Central Asia         125.611111  "
            ],
            "text/html": [
              "\n",
              "  <div id=\"df-b8102c27-7843-4452-a9bd-adad5e69250e\">\n",
              "    <div class=\"colab-df-container\">\n",
              "      <div>\n",
              "<style scoped>\n",
              "    .dataframe tbody tr th:only-of-type {\n",
              "        vertical-align: middle;\n",
              "    }\n",
              "\n",
              "    .dataframe tbody tr th {\n",
              "        vertical-align: top;\n",
              "    }\n",
              "\n",
              "    .dataframe thead th {\n",
              "        text-align: right;\n",
              "    }\n",
              "</style>\n",
              "<table border=\"1\" class=\"dataframe\">\n",
              "  <thead>\n",
              "    <tr style=\"text-align: right;\">\n",
              "      <th></th>\n",
              "      <th>Country or region</th>\n",
              "      <th>GDP per capita</th>\n",
              "      <th>Social support</th>\n",
              "      <th>Healthy life expectancy</th>\n",
              "      <th>Freedom to make life choices</th>\n",
              "      <th>Generosity</th>\n",
              "      <th>Perceptions of corruption</th>\n",
              "      <th>name</th>\n",
              "      <th>region</th>\n",
              "      <th>sub-region</th>\n",
              "      <th>Terrorist_attacks</th>\n",
              "    </tr>\n",
              "  </thead>\n",
              "  <tbody>\n",
              "    <tr>\n",
              "      <th>0</th>\n",
              "      <td>Peru</td>\n",
              "      <td>0.960</td>\n",
              "      <td>1.274</td>\n",
              "      <td>0.854</td>\n",
              "      <td>0.455</td>\n",
              "      <td>0.083</td>\n",
              "      <td>0.027</td>\n",
              "      <td>Peru</td>\n",
              "      <td>Americas</td>\n",
              "      <td>Latin America and the Caribbean</td>\n",
              "      <td>18.000000</td>\n",
              "    </tr>\n",
              "    <tr>\n",
              "      <th>1</th>\n",
              "      <td>Nicaragua</td>\n",
              "      <td>0.694</td>\n",
              "      <td>1.325</td>\n",
              "      <td>0.835</td>\n",
              "      <td>0.435</td>\n",
              "      <td>0.200</td>\n",
              "      <td>0.127</td>\n",
              "      <td>Nicaragua</td>\n",
              "      <td>Americas</td>\n",
              "      <td>Latin America and the Caribbean</td>\n",
              "      <td>125.611111</td>\n",
              "    </tr>\n",
              "    <tr>\n",
              "      <th>2</th>\n",
              "      <td>Greece</td>\n",
              "      <td>1.181</td>\n",
              "      <td>1.156</td>\n",
              "      <td>0.999</td>\n",
              "      <td>0.067</td>\n",
              "      <td>0.000</td>\n",
              "      <td>0.034</td>\n",
              "      <td>Greece</td>\n",
              "      <td>Europe</td>\n",
              "      <td>Southern Europe</td>\n",
              "      <td>112.000000</td>\n",
              "    </tr>\n",
              "    <tr>\n",
              "      <th>3</th>\n",
              "      <td>Qatar</td>\n",
              "      <td>1.684</td>\n",
              "      <td>1.313</td>\n",
              "      <td>0.871</td>\n",
              "      <td>0.555</td>\n",
              "      <td>0.220</td>\n",
              "      <td>0.167</td>\n",
              "      <td>Qatar</td>\n",
              "      <td>Asia</td>\n",
              "      <td>Western Asia</td>\n",
              "      <td>57.333333</td>\n",
              "    </tr>\n",
              "    <tr>\n",
              "      <th>4</th>\n",
              "      <td>Uzbekistan</td>\n",
              "      <td>0.745</td>\n",
              "      <td>1.529</td>\n",
              "      <td>0.756</td>\n",
              "      <td>0.631</td>\n",
              "      <td>0.322</td>\n",
              "      <td>0.240</td>\n",
              "      <td>Uzbekistan</td>\n",
              "      <td>Asia</td>\n",
              "      <td>Central Asia</td>\n",
              "      <td>125.611111</td>\n",
              "    </tr>\n",
              "  </tbody>\n",
              "</table>\n",
              "</div>\n",
              "      <button class=\"colab-df-convert\" onclick=\"convertToInteractive('df-b8102c27-7843-4452-a9bd-adad5e69250e')\"\n",
              "              title=\"Convert this dataframe to an interactive table.\"\n",
              "              style=\"display:none;\">\n",
              "        \n",
              "  <svg xmlns=\"http://www.w3.org/2000/svg\" height=\"24px\"viewBox=\"0 0 24 24\"\n",
              "       width=\"24px\">\n",
              "    <path d=\"M0 0h24v24H0V0z\" fill=\"none\"/>\n",
              "    <path d=\"M18.56 5.44l.94 2.06.94-2.06 2.06-.94-2.06-.94-.94-2.06-.94 2.06-2.06.94zm-11 1L8.5 8.5l.94-2.06 2.06-.94-2.06-.94L8.5 2.5l-.94 2.06-2.06.94zm10 10l.94 2.06.94-2.06 2.06-.94-2.06-.94-.94-2.06-.94 2.06-2.06.94z\"/><path d=\"M17.41 7.96l-1.37-1.37c-.4-.4-.92-.59-1.43-.59-.52 0-1.04.2-1.43.59L10.3 9.45l-7.72 7.72c-.78.78-.78 2.05 0 2.83L4 21.41c.39.39.9.59 1.41.59.51 0 1.02-.2 1.41-.59l7.78-7.78 2.81-2.81c.8-.78.8-2.07 0-2.86zM5.41 20L4 18.59l7.72-7.72 1.47 1.35L5.41 20z\"/>\n",
              "  </svg>\n",
              "      </button>\n",
              "      \n",
              "  <style>\n",
              "    .colab-df-container {\n",
              "      display:flex;\n",
              "      flex-wrap:wrap;\n",
              "      gap: 12px;\n",
              "    }\n",
              "\n",
              "    .colab-df-convert {\n",
              "      background-color: #E8F0FE;\n",
              "      border: none;\n",
              "      border-radius: 50%;\n",
              "      cursor: pointer;\n",
              "      display: none;\n",
              "      fill: #1967D2;\n",
              "      height: 32px;\n",
              "      padding: 0 0 0 0;\n",
              "      width: 32px;\n",
              "    }\n",
              "\n",
              "    .colab-df-convert:hover {\n",
              "      background-color: #E2EBFA;\n",
              "      box-shadow: 0px 1px 2px rgba(60, 64, 67, 0.3), 0px 1px 3px 1px rgba(60, 64, 67, 0.15);\n",
              "      fill: #174EA6;\n",
              "    }\n",
              "\n",
              "    [theme=dark] .colab-df-convert {\n",
              "      background-color: #3B4455;\n",
              "      fill: #D2E3FC;\n",
              "    }\n",
              "\n",
              "    [theme=dark] .colab-df-convert:hover {\n",
              "      background-color: #434B5C;\n",
              "      box-shadow: 0px 1px 3px 1px rgba(0, 0, 0, 0.15);\n",
              "      filter: drop-shadow(0px 1px 2px rgba(0, 0, 0, 0.3));\n",
              "      fill: #FFFFFF;\n",
              "    }\n",
              "  </style>\n",
              "\n",
              "      <script>\n",
              "        const buttonEl =\n",
              "          document.querySelector('#df-b8102c27-7843-4452-a9bd-adad5e69250e button.colab-df-convert');\n",
              "        buttonEl.style.display =\n",
              "          google.colab.kernel.accessAllowed ? 'block' : 'none';\n",
              "\n",
              "        async function convertToInteractive(key) {\n",
              "          const element = document.querySelector('#df-b8102c27-7843-4452-a9bd-adad5e69250e');\n",
              "          const dataTable =\n",
              "            await google.colab.kernel.invokeFunction('convertToInteractive',\n",
              "                                                     [key], {});\n",
              "          if (!dataTable) return;\n",
              "\n",
              "          const docLinkHtml = 'Like what you see? Visit the ' +\n",
              "            '<a target=\"_blank\" href=https://colab.research.google.com/notebooks/data_table.ipynb>data table notebook</a>'\n",
              "            + ' to learn more about interactive tables.';\n",
              "          element.innerHTML = '';\n",
              "          dataTable['output_type'] = 'display_data';\n",
              "          await google.colab.output.renderOutput(dataTable, element);\n",
              "          const docLink = document.createElement('div');\n",
              "          docLink.innerHTML = docLinkHtml;\n",
              "          element.appendChild(docLink);\n",
              "        }\n",
              "      </script>\n",
              "    </div>\n",
              "  </div>\n",
              "  "
            ]
          },
          "metadata": {},
          "execution_count": 243
        }
      ]
    },
    {
      "cell_type": "code",
      "source": [
        "y_train"
      ],
      "metadata": {
        "id": "CLR1YT1M1yY7",
        "outputId": "bf7bc20a-f92f-4715-c3d3-60f6ab9f15d9",
        "colab": {
          "base_uri": "https://localhost:8080/",
          "height": 424
        }
      },
      "execution_count": null,
      "outputs": [
        {
          "output_type": "execute_result",
          "data": {
            "text/plain": [
              "    Average  High  Low  Very High  Very Low\n",
              "0         1     0    0          0         0\n",
              "1         0     1    0          0         0\n",
              "2         1     0    0          0         0\n",
              "3         0     0    0          1         0\n",
              "4         0     1    0          0         0\n",
              "..      ...   ...  ...        ...       ...\n",
              "83        1     0    0          0         0\n",
              "84        0     0    1          0         0\n",
              "85        0     0    0          1         0\n",
              "86        1     0    0          0         0\n",
              "87        0     0    1          0         0\n",
              "\n",
              "[88 rows x 5 columns]"
            ],
            "text/html": [
              "\n",
              "  <div id=\"df-6ebf9acb-7abe-4b14-bf32-08754f2371ef\">\n",
              "    <div class=\"colab-df-container\">\n",
              "      <div>\n",
              "<style scoped>\n",
              "    .dataframe tbody tr th:only-of-type {\n",
              "        vertical-align: middle;\n",
              "    }\n",
              "\n",
              "    .dataframe tbody tr th {\n",
              "        vertical-align: top;\n",
              "    }\n",
              "\n",
              "    .dataframe thead th {\n",
              "        text-align: right;\n",
              "    }\n",
              "</style>\n",
              "<table border=\"1\" class=\"dataframe\">\n",
              "  <thead>\n",
              "    <tr style=\"text-align: right;\">\n",
              "      <th></th>\n",
              "      <th>Average</th>\n",
              "      <th>High</th>\n",
              "      <th>Low</th>\n",
              "      <th>Very High</th>\n",
              "      <th>Very Low</th>\n",
              "    </tr>\n",
              "  </thead>\n",
              "  <tbody>\n",
              "    <tr>\n",
              "      <th>0</th>\n",
              "      <td>1</td>\n",
              "      <td>0</td>\n",
              "      <td>0</td>\n",
              "      <td>0</td>\n",
              "      <td>0</td>\n",
              "    </tr>\n",
              "    <tr>\n",
              "      <th>1</th>\n",
              "      <td>0</td>\n",
              "      <td>1</td>\n",
              "      <td>0</td>\n",
              "      <td>0</td>\n",
              "      <td>0</td>\n",
              "    </tr>\n",
              "    <tr>\n",
              "      <th>2</th>\n",
              "      <td>1</td>\n",
              "      <td>0</td>\n",
              "      <td>0</td>\n",
              "      <td>0</td>\n",
              "      <td>0</td>\n",
              "    </tr>\n",
              "    <tr>\n",
              "      <th>3</th>\n",
              "      <td>0</td>\n",
              "      <td>0</td>\n",
              "      <td>0</td>\n",
              "      <td>1</td>\n",
              "      <td>0</td>\n",
              "    </tr>\n",
              "    <tr>\n",
              "      <th>4</th>\n",
              "      <td>0</td>\n",
              "      <td>1</td>\n",
              "      <td>0</td>\n",
              "      <td>0</td>\n",
              "      <td>0</td>\n",
              "    </tr>\n",
              "    <tr>\n",
              "      <th>...</th>\n",
              "      <td>...</td>\n",
              "      <td>...</td>\n",
              "      <td>...</td>\n",
              "      <td>...</td>\n",
              "      <td>...</td>\n",
              "    </tr>\n",
              "    <tr>\n",
              "      <th>83</th>\n",
              "      <td>1</td>\n",
              "      <td>0</td>\n",
              "      <td>0</td>\n",
              "      <td>0</td>\n",
              "      <td>0</td>\n",
              "    </tr>\n",
              "    <tr>\n",
              "      <th>84</th>\n",
              "      <td>0</td>\n",
              "      <td>0</td>\n",
              "      <td>1</td>\n",
              "      <td>0</td>\n",
              "      <td>0</td>\n",
              "    </tr>\n",
              "    <tr>\n",
              "      <th>85</th>\n",
              "      <td>0</td>\n",
              "      <td>0</td>\n",
              "      <td>0</td>\n",
              "      <td>1</td>\n",
              "      <td>0</td>\n",
              "    </tr>\n",
              "    <tr>\n",
              "      <th>86</th>\n",
              "      <td>1</td>\n",
              "      <td>0</td>\n",
              "      <td>0</td>\n",
              "      <td>0</td>\n",
              "      <td>0</td>\n",
              "    </tr>\n",
              "    <tr>\n",
              "      <th>87</th>\n",
              "      <td>0</td>\n",
              "      <td>0</td>\n",
              "      <td>1</td>\n",
              "      <td>0</td>\n",
              "      <td>0</td>\n",
              "    </tr>\n",
              "  </tbody>\n",
              "</table>\n",
              "<p>88 rows × 5 columns</p>\n",
              "</div>\n",
              "      <button class=\"colab-df-convert\" onclick=\"convertToInteractive('df-6ebf9acb-7abe-4b14-bf32-08754f2371ef')\"\n",
              "              title=\"Convert this dataframe to an interactive table.\"\n",
              "              style=\"display:none;\">\n",
              "        \n",
              "  <svg xmlns=\"http://www.w3.org/2000/svg\" height=\"24px\"viewBox=\"0 0 24 24\"\n",
              "       width=\"24px\">\n",
              "    <path d=\"M0 0h24v24H0V0z\" fill=\"none\"/>\n",
              "    <path d=\"M18.56 5.44l.94 2.06.94-2.06 2.06-.94-2.06-.94-.94-2.06-.94 2.06-2.06.94zm-11 1L8.5 8.5l.94-2.06 2.06-.94-2.06-.94L8.5 2.5l-.94 2.06-2.06.94zm10 10l.94 2.06.94-2.06 2.06-.94-2.06-.94-.94-2.06-.94 2.06-2.06.94z\"/><path d=\"M17.41 7.96l-1.37-1.37c-.4-.4-.92-.59-1.43-.59-.52 0-1.04.2-1.43.59L10.3 9.45l-7.72 7.72c-.78.78-.78 2.05 0 2.83L4 21.41c.39.39.9.59 1.41.59.51 0 1.02-.2 1.41-.59l7.78-7.78 2.81-2.81c.8-.78.8-2.07 0-2.86zM5.41 20L4 18.59l7.72-7.72 1.47 1.35L5.41 20z\"/>\n",
              "  </svg>\n",
              "      </button>\n",
              "      \n",
              "  <style>\n",
              "    .colab-df-container {\n",
              "      display:flex;\n",
              "      flex-wrap:wrap;\n",
              "      gap: 12px;\n",
              "    }\n",
              "\n",
              "    .colab-df-convert {\n",
              "      background-color: #E8F0FE;\n",
              "      border: none;\n",
              "      border-radius: 50%;\n",
              "      cursor: pointer;\n",
              "      display: none;\n",
              "      fill: #1967D2;\n",
              "      height: 32px;\n",
              "      padding: 0 0 0 0;\n",
              "      width: 32px;\n",
              "    }\n",
              "\n",
              "    .colab-df-convert:hover {\n",
              "      background-color: #E2EBFA;\n",
              "      box-shadow: 0px 1px 2px rgba(60, 64, 67, 0.3), 0px 1px 3px 1px rgba(60, 64, 67, 0.15);\n",
              "      fill: #174EA6;\n",
              "    }\n",
              "\n",
              "    [theme=dark] .colab-df-convert {\n",
              "      background-color: #3B4455;\n",
              "      fill: #D2E3FC;\n",
              "    }\n",
              "\n",
              "    [theme=dark] .colab-df-convert:hover {\n",
              "      background-color: #434B5C;\n",
              "      box-shadow: 0px 1px 3px 1px rgba(0, 0, 0, 0.15);\n",
              "      filter: drop-shadow(0px 1px 2px rgba(0, 0, 0, 0.3));\n",
              "      fill: #FFFFFF;\n",
              "    }\n",
              "  </style>\n",
              "\n",
              "      <script>\n",
              "        const buttonEl =\n",
              "          document.querySelector('#df-6ebf9acb-7abe-4b14-bf32-08754f2371ef button.colab-df-convert');\n",
              "        buttonEl.style.display =\n",
              "          google.colab.kernel.accessAllowed ? 'block' : 'none';\n",
              "\n",
              "        async function convertToInteractive(key) {\n",
              "          const element = document.querySelector('#df-6ebf9acb-7abe-4b14-bf32-08754f2371ef');\n",
              "          const dataTable =\n",
              "            await google.colab.kernel.invokeFunction('convertToInteractive',\n",
              "                                                     [key], {});\n",
              "          if (!dataTable) return;\n",
              "\n",
              "          const docLinkHtml = 'Like what you see? Visit the ' +\n",
              "            '<a target=\"_blank\" href=https://colab.research.google.com/notebooks/data_table.ipynb>data table notebook</a>'\n",
              "            + ' to learn more about interactive tables.';\n",
              "          element.innerHTML = '';\n",
              "          dataTable['output_type'] = 'display_data';\n",
              "          await google.colab.output.renderOutput(dataTable, element);\n",
              "          const docLink = document.createElement('div');\n",
              "          docLink.innerHTML = docLinkHtml;\n",
              "          element.appendChild(docLink);\n",
              "        }\n",
              "      </script>\n",
              "    </div>\n",
              "  </div>\n",
              "  "
            ]
          },
          "metadata": {},
          "execution_count": 244
        }
      ]
    },
    {
      "cell_type": "markdown",
      "source": [
        "## Reverse one hot encoding the y_train data"
      ],
      "metadata": {
        "id": "N0Mtx2lDqhFE"
      }
    },
    {
      "cell_type": "code",
      "source": [
        "y_train['happiness']=y_train.idxmax(1)"
      ],
      "metadata": {
        "id": "gd1h9i8iRnOB"
      },
      "execution_count": null,
      "outputs": []
    },
    {
      "cell_type": "code",
      "source": [
        "happy=y_train['happiness']"
      ],
      "metadata": {
        "id": "aeCme6adTNDO"
      },
      "execution_count": null,
      "outputs": []
    },
    {
      "cell_type": "code",
      "source": [
        "y_train"
      ],
      "metadata": {
        "id": "EF6envm8kHko",
        "outputId": "a72eedc3-04df-49a5-e0e1-8059667fbe25",
        "colab": {
          "base_uri": "https://localhost:8080/",
          "height": 424
        }
      },
      "execution_count": null,
      "outputs": [
        {
          "output_type": "execute_result",
          "data": {
            "text/plain": [
              "    Average  High  Low  Very High  Very Low  happiness\n",
              "0         1     0    0          0         0    Average\n",
              "1         0     1    0          0         0       High\n",
              "2         1     0    0          0         0    Average\n",
              "3         0     0    0          1         0  Very High\n",
              "4         0     1    0          0         0       High\n",
              "..      ...   ...  ...        ...       ...        ...\n",
              "83        1     0    0          0         0    Average\n",
              "84        0     0    1          0         0        Low\n",
              "85        0     0    0          1         0  Very High\n",
              "86        1     0    0          0         0    Average\n",
              "87        0     0    1          0         0        Low\n",
              "\n",
              "[88 rows x 6 columns]"
            ],
            "text/html": [
              "\n",
              "  <div id=\"df-b1f3429e-ef10-46e3-bf19-f78d1e5e608f\">\n",
              "    <div class=\"colab-df-container\">\n",
              "      <div>\n",
              "<style scoped>\n",
              "    .dataframe tbody tr th:only-of-type {\n",
              "        vertical-align: middle;\n",
              "    }\n",
              "\n",
              "    .dataframe tbody tr th {\n",
              "        vertical-align: top;\n",
              "    }\n",
              "\n",
              "    .dataframe thead th {\n",
              "        text-align: right;\n",
              "    }\n",
              "</style>\n",
              "<table border=\"1\" class=\"dataframe\">\n",
              "  <thead>\n",
              "    <tr style=\"text-align: right;\">\n",
              "      <th></th>\n",
              "      <th>Average</th>\n",
              "      <th>High</th>\n",
              "      <th>Low</th>\n",
              "      <th>Very High</th>\n",
              "      <th>Very Low</th>\n",
              "      <th>happiness</th>\n",
              "    </tr>\n",
              "  </thead>\n",
              "  <tbody>\n",
              "    <tr>\n",
              "      <th>0</th>\n",
              "      <td>1</td>\n",
              "      <td>0</td>\n",
              "      <td>0</td>\n",
              "      <td>0</td>\n",
              "      <td>0</td>\n",
              "      <td>Average</td>\n",
              "    </tr>\n",
              "    <tr>\n",
              "      <th>1</th>\n",
              "      <td>0</td>\n",
              "      <td>1</td>\n",
              "      <td>0</td>\n",
              "      <td>0</td>\n",
              "      <td>0</td>\n",
              "      <td>High</td>\n",
              "    </tr>\n",
              "    <tr>\n",
              "      <th>2</th>\n",
              "      <td>1</td>\n",
              "      <td>0</td>\n",
              "      <td>0</td>\n",
              "      <td>0</td>\n",
              "      <td>0</td>\n",
              "      <td>Average</td>\n",
              "    </tr>\n",
              "    <tr>\n",
              "      <th>3</th>\n",
              "      <td>0</td>\n",
              "      <td>0</td>\n",
              "      <td>0</td>\n",
              "      <td>1</td>\n",
              "      <td>0</td>\n",
              "      <td>Very High</td>\n",
              "    </tr>\n",
              "    <tr>\n",
              "      <th>4</th>\n",
              "      <td>0</td>\n",
              "      <td>1</td>\n",
              "      <td>0</td>\n",
              "      <td>0</td>\n",
              "      <td>0</td>\n",
              "      <td>High</td>\n",
              "    </tr>\n",
              "    <tr>\n",
              "      <th>...</th>\n",
              "      <td>...</td>\n",
              "      <td>...</td>\n",
              "      <td>...</td>\n",
              "      <td>...</td>\n",
              "      <td>...</td>\n",
              "      <td>...</td>\n",
              "    </tr>\n",
              "    <tr>\n",
              "      <th>83</th>\n",
              "      <td>1</td>\n",
              "      <td>0</td>\n",
              "      <td>0</td>\n",
              "      <td>0</td>\n",
              "      <td>0</td>\n",
              "      <td>Average</td>\n",
              "    </tr>\n",
              "    <tr>\n",
              "      <th>84</th>\n",
              "      <td>0</td>\n",
              "      <td>0</td>\n",
              "      <td>1</td>\n",
              "      <td>0</td>\n",
              "      <td>0</td>\n",
              "      <td>Low</td>\n",
              "    </tr>\n",
              "    <tr>\n",
              "      <th>85</th>\n",
              "      <td>0</td>\n",
              "      <td>0</td>\n",
              "      <td>0</td>\n",
              "      <td>1</td>\n",
              "      <td>0</td>\n",
              "      <td>Very High</td>\n",
              "    </tr>\n",
              "    <tr>\n",
              "      <th>86</th>\n",
              "      <td>1</td>\n",
              "      <td>0</td>\n",
              "      <td>0</td>\n",
              "      <td>0</td>\n",
              "      <td>0</td>\n",
              "      <td>Average</td>\n",
              "    </tr>\n",
              "    <tr>\n",
              "      <th>87</th>\n",
              "      <td>0</td>\n",
              "      <td>0</td>\n",
              "      <td>1</td>\n",
              "      <td>0</td>\n",
              "      <td>0</td>\n",
              "      <td>Low</td>\n",
              "    </tr>\n",
              "  </tbody>\n",
              "</table>\n",
              "<p>88 rows × 6 columns</p>\n",
              "</div>\n",
              "      <button class=\"colab-df-convert\" onclick=\"convertToInteractive('df-b1f3429e-ef10-46e3-bf19-f78d1e5e608f')\"\n",
              "              title=\"Convert this dataframe to an interactive table.\"\n",
              "              style=\"display:none;\">\n",
              "        \n",
              "  <svg xmlns=\"http://www.w3.org/2000/svg\" height=\"24px\"viewBox=\"0 0 24 24\"\n",
              "       width=\"24px\">\n",
              "    <path d=\"M0 0h24v24H0V0z\" fill=\"none\"/>\n",
              "    <path d=\"M18.56 5.44l.94 2.06.94-2.06 2.06-.94-2.06-.94-.94-2.06-.94 2.06-2.06.94zm-11 1L8.5 8.5l.94-2.06 2.06-.94-2.06-.94L8.5 2.5l-.94 2.06-2.06.94zm10 10l.94 2.06.94-2.06 2.06-.94-2.06-.94-.94-2.06-.94 2.06-2.06.94z\"/><path d=\"M17.41 7.96l-1.37-1.37c-.4-.4-.92-.59-1.43-.59-.52 0-1.04.2-1.43.59L10.3 9.45l-7.72 7.72c-.78.78-.78 2.05 0 2.83L4 21.41c.39.39.9.59 1.41.59.51 0 1.02-.2 1.41-.59l7.78-7.78 2.81-2.81c.8-.78.8-2.07 0-2.86zM5.41 20L4 18.59l7.72-7.72 1.47 1.35L5.41 20z\"/>\n",
              "  </svg>\n",
              "      </button>\n",
              "      \n",
              "  <style>\n",
              "    .colab-df-container {\n",
              "      display:flex;\n",
              "      flex-wrap:wrap;\n",
              "      gap: 12px;\n",
              "    }\n",
              "\n",
              "    .colab-df-convert {\n",
              "      background-color: #E8F0FE;\n",
              "      border: none;\n",
              "      border-radius: 50%;\n",
              "      cursor: pointer;\n",
              "      display: none;\n",
              "      fill: #1967D2;\n",
              "      height: 32px;\n",
              "      padding: 0 0 0 0;\n",
              "      width: 32px;\n",
              "    }\n",
              "\n",
              "    .colab-df-convert:hover {\n",
              "      background-color: #E2EBFA;\n",
              "      box-shadow: 0px 1px 2px rgba(60, 64, 67, 0.3), 0px 1px 3px 1px rgba(60, 64, 67, 0.15);\n",
              "      fill: #174EA6;\n",
              "    }\n",
              "\n",
              "    [theme=dark] .colab-df-convert {\n",
              "      background-color: #3B4455;\n",
              "      fill: #D2E3FC;\n",
              "    }\n",
              "\n",
              "    [theme=dark] .colab-df-convert:hover {\n",
              "      background-color: #434B5C;\n",
              "      box-shadow: 0px 1px 3px 1px rgba(0, 0, 0, 0.15);\n",
              "      filter: drop-shadow(0px 1px 2px rgba(0, 0, 0, 0.3));\n",
              "      fill: #FFFFFF;\n",
              "    }\n",
              "  </style>\n",
              "\n",
              "      <script>\n",
              "        const buttonEl =\n",
              "          document.querySelector('#df-b1f3429e-ef10-46e3-bf19-f78d1e5e608f button.colab-df-convert');\n",
              "        buttonEl.style.display =\n",
              "          google.colab.kernel.accessAllowed ? 'block' : 'none';\n",
              "\n",
              "        async function convertToInteractive(key) {\n",
              "          const element = document.querySelector('#df-b1f3429e-ef10-46e3-bf19-f78d1e5e608f');\n",
              "          const dataTable =\n",
              "            await google.colab.kernel.invokeFunction('convertToInteractive',\n",
              "                                                     [key], {});\n",
              "          if (!dataTable) return;\n",
              "\n",
              "          const docLinkHtml = 'Like what you see? Visit the ' +\n",
              "            '<a target=\"_blank\" href=https://colab.research.google.com/notebooks/data_table.ipynb>data table notebook</a>'\n",
              "            + ' to learn more about interactive tables.';\n",
              "          element.innerHTML = '';\n",
              "          dataTable['output_type'] = 'display_data';\n",
              "          await google.colab.output.renderOutput(dataTable, element);\n",
              "          const docLink = document.createElement('div');\n",
              "          docLink.innerHTML = docLinkHtml;\n",
              "          element.appendChild(docLink);\n",
              "        }\n",
              "      </script>\n",
              "    </div>\n",
              "  </div>\n",
              "  "
            ]
          },
          "metadata": {},
          "execution_count": 247
        }
      ]
    },
    {
      "cell_type": "code",
      "source": [
        "#Arranging happiness values according to levels\n",
        "def happy_to_numbers(happy):\n",
        " if happy=='Very Low':\n",
        "  return 1\n",
        " elif happy=='Low':\n",
        "  return 2\n",
        " elif happy=='Average':\n",
        "  return 3\n",
        " elif happy=='High':\n",
        "  return 4\n",
        " elif happy=='Very High':\n",
        "  return 5"
      ],
      "metadata": {
        "id": "zA-lBRGlTdy8"
      },
      "execution_count": null,
      "outputs": []
    },
    {
      "cell_type": "code",
      "source": [
        "happy['happy_numbers']=happy.apply(happy_to_numbers) "
      ],
      "metadata": {
        "id": "d95B5dIUU0XV",
        "outputId": "586e3de5-34ed-4630-c546-0f807e0baeb0",
        "colab": {
          "base_uri": "https://localhost:8080/"
        }
      },
      "execution_count": null,
      "outputs": [
        {
          "output_type": "stream",
          "name": "stderr",
          "text": [
            "<ipython-input-249-6e4352c744dd>:1: SettingWithCopyWarning: \n",
            "A value is trying to be set on a copy of a slice from a DataFrame\n",
            "\n",
            "See the caveats in the documentation: https://pandas.pydata.org/pandas-docs/stable/user_guide/indexing.html#returning-a-view-versus-a-copy\n",
            "  happy['happy_numbers']=happy.apply(happy_to_numbers)\n"
          ]
        }
      ]
    },
    {
      "cell_type": "code",
      "source": [
        "happiness_level=y_train['happiness'].apply(happy_to_numbers)"
      ],
      "metadata": {
        "id": "ywoHju6pkS0l"
      },
      "execution_count": null,
      "outputs": []
    },
    {
      "cell_type": "code",
      "source": [
        "happiness_level"
      ],
      "metadata": {
        "id": "dMmjW2Qekb9A",
        "outputId": "89015633-c916-4a99-811d-baf42836e681",
        "colab": {
          "base_uri": "https://localhost:8080/"
        }
      },
      "execution_count": null,
      "outputs": [
        {
          "output_type": "execute_result",
          "data": {
            "text/plain": [
              "0     3\n",
              "1     4\n",
              "2     3\n",
              "3     5\n",
              "4     4\n",
              "     ..\n",
              "83    3\n",
              "84    2\n",
              "85    5\n",
              "86    3\n",
              "87    2\n",
              "Name: happiness, Length: 88, dtype: int64"
            ]
          },
          "metadata": {},
          "execution_count": 251
        }
      ]
    },
    {
      "cell_type": "code",
      "source": [
        "data=happy['happy_numbers']\n",
        "data"
      ],
      "metadata": {
        "id": "9NU7YeGdaMtE",
        "outputId": "acfb2417-260f-4666-d7c7-bf8a750bed33",
        "colab": {
          "base_uri": "https://localhost:8080/"
        }
      },
      "execution_count": null,
      "outputs": [
        {
          "output_type": "execute_result",
          "data": {
            "text/plain": [
              "0     3\n",
              "1     4\n",
              "2     3\n",
              "3     5\n",
              "4     4\n",
              "     ..\n",
              "83    3\n",
              "84    2\n",
              "85    5\n",
              "86    3\n",
              "87    2\n",
              "Name: happiness, Length: 88, dtype: int64"
            ]
          },
          "metadata": {},
          "execution_count": 252
        }
      ]
    },
    {
      "cell_type": "code",
      "source": [
        "y_train=y_train.drop(columns=['happiness'])"
      ],
      "metadata": {
        "id": "eD91OCFyTgyT"
      },
      "execution_count": null,
      "outputs": []
    },
    {
      "cell_type": "markdown",
      "source": [
        "## Visualizing the relationship between happiness and social support"
      ],
      "metadata": {
        "id": "MOvDeLCfrnSD"
      }
    },
    {
      "cell_type": "code",
      "source": [
        "        import matplotlib.pyplot as plt\n",
        "        plt.scatter(X_train['Social support'],data) \n",
        "        plt.xlabel(\"Social_support\")\n",
        "        plt.ylabel(\"happiness_level\")"
      ],
      "metadata": {
        "id": "UNnoxAQWc0BE",
        "outputId": "255588d7-163b-43a3-8305-6957416dcaa5",
        "colab": {
          "base_uri": "https://localhost:8080/",
          "height": 297
        }
      },
      "execution_count": null,
      "outputs": [
        {
          "output_type": "execute_result",
          "data": {
            "text/plain": [
              "Text(0, 0.5, 'happiness_level')"
            ]
          },
          "metadata": {},
          "execution_count": 255
        },
        {
          "output_type": "display_data",
          "data": {
            "text/plain": [
              "<Figure size 432x288 with 1 Axes>"
            ],
            "image/png": "[encoded data removed]"
          },
          "metadata": {
            "needs_background": "light"
          }
        }
      ]
    },
    {
      "cell_type": "markdown",
      "source": [
        "According to the above visualization, we can see that social support and happiness levels are positively correlated. We can see that with an increase in social support, happiness levels move from 1-5"
      ],
      "metadata": {
        "id": "xu15tHUNSrLv"
      }
    },
    {
      "cell_type": "markdown",
      "source": [
        "## Visualizing the relationship between happiness and GDP per Capita"
      ],
      "metadata": {
        "id": "YBUdbFlKrxp-"
      }
    },
    {
      "cell_type": "code",
      "source": [
        "import matplotlib.pyplot as plt\n",
        "plt.scatter(X_train['GDP per capita'],data)\n",
        "plt.xlabel(\"GDP per capita\")\n",
        "plt.ylabel(\"happiness_level\")"
      ],
      "metadata": {
        "id": "S89KuTsSiu3o",
        "outputId": "33d226a7-ccb0-4674-e2dd-db152d966e6a",
        "colab": {
          "base_uri": "https://localhost:8080/",
          "height": 296
        }
      },
      "execution_count": null,
      "outputs": [
        {
          "output_type": "execute_result",
          "data": {
            "text/plain": [
              "Text(0, 0.5, 'happiness_level')"
            ]
          },
          "metadata": {},
          "execution_count": 254
        },
        {
          "output_type": "display_data",
          "data": {
            "text/plain": [
              "<Figure size 432x288 with 1 Axes>"
            ],
            "image/png": "[encoded data removed]"
          },
          "metadata": {
            "needs_background": "light"
          }
        }
      ]
    },
    {
      "cell_type": "markdown",
      "source": [
        "According to the above visualization, we can see that GDP per capita and happiness levels are positively correlated. We can see that with an increase in GDP per capita, happiness levels move from 1-5"
      ],
      "metadata": {
        "id": "QpnQksncTMqL"
      }
    },
    {
      "cell_type": "markdown",
      "source": [
        "## Visualizing the relationship between happiness and Generosity"
      ],
      "metadata": {
        "id": "SDRAGlhNr2dt"
      }
    },
    {
      "cell_type": "code",
      "source": [
        "import matplotlib.pyplot as plt\n",
        "plt.scatter(X_train['Generosity'],data)\n",
        "plt.xlabel(\"Generosity\")\n",
        "plt.ylabel(\"happiness_level\")"
      ],
      "metadata": {
        "id": "v9sSIuWwjA7O",
        "outputId": "2f30ada9-e1d6-46fc-88bb-df506034a161",
        "colab": {
          "base_uri": "https://localhost:8080/",
          "height": 296
        }
      },
      "execution_count": null,
      "outputs": [
        {
          "output_type": "execute_result",
          "data": {
            "text/plain": [
              "Text(0, 0.5, 'happiness_level')"
            ]
          },
          "metadata": {},
          "execution_count": 256
        },
        {
          "output_type": "display_data",
          "data": {
            "text/plain": [
              "<Figure size 432x288 with 1 Axes>"
            ],
            "image/png": "[encoded data removed]"
          },
          "metadata": {
            "needs_background": "light"
          }
        }
      ]
    },
    {
      "cell_type": "markdown",
      "source": [
        "According to the above visualization, we can see that Generosity and happiness levels are not very correlated. We can see that an increase in generosity almsot equally makes people happy or less happy/(unhappy). "
      ],
      "metadata": {
        "id": "kGVVcI95T5V_"
      }
    },
    {
      "cell_type": "markdown",
      "source": [
        "## Visualizing the relationship between happiness and Freedom to make life choices"
      ],
      "metadata": {
        "id": "ZhmG4--Zr61c"
      }
    },
    {
      "cell_type": "code",
      "source": [
        "import matplotlib.pyplot as plt\n",
        "plt.scatter(X_train['Freedom to make life choices'],data)\n",
        "plt.xlabel(\"Freedom\")\n",
        "plt.ylabel(\"happiness_level\")"
      ],
      "metadata": {
        "id": "o3IRK1KyrUUn",
        "outputId": "8635b9f9-f9e4-4282-e685-9eb6ca7e5e1f",
        "colab": {
          "base_uri": "https://localhost:8080/",
          "height": 296
        }
      },
      "execution_count": null,
      "outputs": [
        {
          "output_type": "execute_result",
          "data": {
            "text/plain": [
              "Text(0, 0.5, 'happiness_level')"
            ]
          },
          "metadata": {},
          "execution_count": 257
        },
        {
          "output_type": "display_data",
          "data": {
            "text/plain": [
              "<Figure size 432x288 with 1 Axes>"
            ],
            "image/png": "[encoded data removed]"
          },
          "metadata": {
            "needs_background": "light"
          }
        }
      ]
    },
    {
      "cell_type": "markdown",
      "source": [
        "According to the above visualization, we can see that Freedom to make life choices and happiness levels are positively correlated. We can see that with an increase in Freedom, happiness levels move from 1-5. This shift is gradual."
      ],
      "metadata": {
        "id": "xt3XpMavUvil"
      }
    },
    {
      "cell_type": "markdown",
      "metadata": {
        "id": "gEzPoXPj3V7u"
      },
      "source": [
        "###2.   Preprocess data using Sklearn Column Transformer/ Write and Save Preprocessor function\n"
      ]
    },
    {
      "cell_type": "code",
      "metadata": {
        "id": "16QV9Y9TC3B3"
      },
      "source": [
        "from sklearn.preprocessing import StandardScaler, OneHotEncoder\n",
        "from sklearn.compose import ColumnTransformer, make_column_transformer\n",
        "from sklearn.pipeline import Pipeline\n",
        "from sklearn.impute import SimpleImputer\n",
        "from sklearn.preprocessing import StandardScaler, OneHotEncoder\n",
        "\n",
        "# We create the preprocessing pipelines for both numeric and categorical data.\n",
        "\n",
        "numeric_features = X_train.drop(['Country or region', 'name', 'region', 'sub-region'], axis=1)\n",
        "numeric_features=numeric_features.columns.tolist()\n",
        "\n",
        "numeric_transformer = Pipeline(steps=[\n",
        "    ('imputer', SimpleImputer(strategy='median')),\n",
        "    ('scaler', StandardScaler())])\n",
        "\n",
        "categorical_features = ['region', 'sub-region']\n",
        "\n",
        "#Replacing missing values with Modal value and then one hot encoding.\n",
        "categorical_transformer = Pipeline(steps=[\n",
        "    ('imputer', SimpleImputer(strategy='most_frequent')),\n",
        "    ('onehot', OneHotEncoder(handle_unknown='ignore'))])\n",
        "\n",
        "# final preprocessor object set up with ColumnTransformer\n",
        "preprocessor = ColumnTransformer(\n",
        "    transformers=[\n",
        "        ('num', numeric_transformer, numeric_features),\n",
        "        ('cat', categorical_transformer, categorical_features)])\n",
        "\n",
        "#Fit your preprocessor object\n",
        "preprocess=preprocessor.fit(X_train) "
      ],
      "execution_count": null,
      "outputs": []
    },
    {
      "cell_type": "markdown",
      "source": [
        "## 2) Feature Importance"
      ],
      "metadata": {
        "id": "c8QULITtLa2g"
      }
    },
    {
      "cell_type": "code",
      "source": [
        "y_train=y_train.drop(columns=['happiness'])"
      ],
      "metadata": {
        "id": "9C2193lfkwu2"
      },
      "execution_count": null,
      "outputs": []
    },
    {
      "cell_type": "code",
      "source": [
        "from sklearn.inspection import permutation_importance\n",
        "\n",
        "rf = Pipeline([\n",
        "    ('preprocess', preprocess),\n",
        "    # put your model below\n",
        "    ('classifier', RandomForestClassifier(random_state=42))\n",
        "])\n",
        "\n",
        "rf.fit(X_train, y_train)\n",
        "\n",
        "result = permutation_importance(rf, X_train, y_train, n_repeats=10,\n",
        "                                random_state=42, n_jobs=2)\n",
        "\n",
        "sorted_importances_idx = result.importances_mean.argsort()\n",
        "importances = pd.DataFrame(\n",
        "    result.importances[sorted_importances_idx].T,\n",
        "    columns=X_train.columns[sorted_importances_idx],\n",
        ")\n",
        "ax = importances.plot.box(vert=False, whis=10)\n",
        "ax.set_title(\"Permutation Importances \")\n",
        "ax.axvline(x=0, color=\"k\", linestyle=\"--\")\n",
        "ax.set_xlabel(\"Decrease in accuracy score\")\n",
        "ax.figure.tight_layout()"
      ],
      "metadata": {
        "id": "vP1to_tZKS9b",
        "outputId": "d33cd85f-1c82-4cba-a7b0-437c87ffd81a",
        "colab": {
          "base_uri": "https://localhost:8080/",
          "height": 297
        }
      },
      "execution_count": null,
      "outputs": [
        {
          "output_type": "display_data",
          "data": {
            "text/plain": [
              "<Figure size 432x288 with 1 Axes>"
            ],
            "image/png": "[encoded data removed]"
          },
          "metadata": {
            "needs_background": "light"
          }
        }
      ]
    },
    {
      "cell_type": "markdown",
      "source": [
        "According the the above model, we can see that GDP per capita is an important relevant predictor of happiness followed by healthy life expectancy. Logicaly speaking, they add up. One of the bare minimums for being happy is having enough resources to live well which is ensured by a high GDP per capita. A healthy life expectancy and social support naturally make one happier. "
      ],
      "metadata": {
        "id": "50O8FJkpVBwD"
      }
    },
    {
      "cell_type": "code",
      "source": [
        "# Write function to transform data with preprocessor\n",
        "\n",
        "def preprocessor(data):\n",
        "    data.drop(['Country or region', 'name'], axis=1)\n",
        "    preprocessed_data=preprocess.transform(data)\n",
        "    return preprocessed_data"
      ],
      "metadata": {
        "id": "S_PaNOG0SUIk"
      },
      "execution_count": null,
      "outputs": []
    },
    {
      "cell_type": "code",
      "source": [
        "# check shape of X data after preprocessing it using our new function\n",
        "preprocessor(X_train).shape"
      ],
      "metadata": {
        "colab": {
          "base_uri": "https://localhost:8080/"
        },
        "id": "a1IPy9xvSWBp",
        "outputId": "382187f2-9ca7-4bef-86bf-ced03f4d6d1a"
      },
      "execution_count": null,
      "outputs": [
        {
          "output_type": "execute_result",
          "data": {
            "text/plain": [
              "(88, 26)"
            ]
          },
          "metadata": {},
          "execution_count": 196
        }
      ]
    },
    {
      "cell_type": "markdown",
      "metadata": {
        "id": "X52kECL43b-O"
      },
      "source": [
        "## Random Forest Classifier with n estimators as 300 , max depth as 3. (Version 840)\n",
        " \n"
      ]
    },
    {
      "cell_type": "code",
      "source": [
        "from sklearn.ensemble import RandomForestClassifier\n",
        "\n",
        "model = RandomForestClassifier(n_estimators=300, max_depth=3)\n",
        "model.fit(preprocessor(X_train), y_train_labels) # Fitting to the training set.\n",
        "model.score(preprocessor(X_train), y_train_labels) # Fit score, 0-1 scale."
      ],
      "metadata": {
        "id": "S3axnLRJMC5L",
        "outputId": "b0b72b5f-3276-4585-c33a-73c4f8b4a921",
        "colab": {
          "base_uri": "https://localhost:8080/"
        }
      },
      "execution_count": null,
      "outputs": [
        {
          "output_type": "execute_result",
          "data": {
            "text/plain": [
              "0.8522727272727273"
            ]
          },
          "metadata": {},
          "execution_count": 266
        }
      ]
    },
    {
      "cell_type": "code",
      "source": [
        "import aimodelshare as ai\n",
        "ai.export_preprocessor(preprocessor,\"\") "
      ],
      "metadata": {
        "id": "7VGMHPgcMJ4Z",
        "outputId": "330754f6-2fab-4dbb-b37d-9fcd5196768a",
        "colab": {
          "base_uri": "https://localhost:8080/"
        }
      },
      "execution_count": null,
      "outputs": [
        {
          "output_type": "stream",
          "name": "stdout",
          "text": [
            "Your preprocessor is now saved to 'preprocessor.zip'\n"
          ]
        }
      ]
    },
    {
      "cell_type": "code",
      "source": [
        "# Save sklearn model to local ONNX file\n",
        "from aimodelshare.aimsonnx import model_to_onnx\n",
        "\n",
        "# Check how many preprocessed input features are there?\n",
        "from skl2onnx.common.data_types import FloatTensorType\n",
        "\n",
        "feature_count=preprocessor(X_test).shape[1] #Get count of preprocessed features\n",
        "initial_type = [('float_input', FloatTensorType([None, feature_count]))]  #Insert correct number of preprocessed features\n",
        "\n",
        "onnx_model = model_to_onnx(model, framework='sklearn',\n",
        "                          initial_types=initial_type,\n",
        "                          transfer_learning=False,\n",
        "                          deep_learning=False)\n",
        "\n",
        "with open(\"model.onnx\", \"wb\") as f:\n",
        "    f.write(onnx_model.SerializeToString())"
      ],
      "metadata": {
        "id": "mK3hphvHMI6i"
      },
      "execution_count": null,
      "outputs": []
    },
    {
      "cell_type": "code",
      "source": [
        "#Set credentials using modelshare.org username/password\n",
        "\n",
        "from aimodelshare.aws import set_credentials\n",
        "\n",
        "#This is the unique rest api that powers this World Happiness Classification Playground -- make sure to update the apiurl for new competition deployments\n",
        "apiurl=\"https://e2w6gh3id1.execute-api.us-east-2.amazonaws.com/prod/m\"\n",
        "\n",
        "set_credentials(apiurl=apiurl)"
      ],
      "metadata": {
        "id": "osZjUgYjMNGd"
      },
      "execution_count": null,
      "outputs": []
    },
    {
      "cell_type": "code",
      "source": [
        "#Instantiate Competition\n",
        "import aimodelshare as ai\n",
        "mycompetition= ai.Competition(apiurl)"
      ],
      "metadata": {
        "id": "LtzFmaVaMVY0"
      },
      "execution_count": null,
      "outputs": []
    },
    {
      "cell_type": "code",
      "source": [
        "#Submit Model 1: \n",
        "\n",
        "#-- Generate predicted values (Model 1)\n",
        "prediction_labels = model.predict(preprocessor(X_test))\n",
        "\n",
        "# Submit Model 1 to Competition Leaderboard\n",
        "mycompetition.submit_model(model_filepath = \"model.onnx\",\n",
        "                                 preprocessor_filepath=\"preprocessor.zip\",\n",
        "                                 prediction_submission=prediction_labels,\n",
        "                                 custom_metadata={\"team\":\"1\"})"
      ],
      "metadata": {
        "id": "jxcnsP6AMVcQ",
        "outputId": "7f521f93-1ee9-49aa-a17f-5b0519cf9c8e",
        "colab": {
          "base_uri": "https://localhost:8080/"
        }
      },
      "execution_count": null,
      "outputs": [
        {
          "output_type": "stream",
          "name": "stdout",
          "text": [
            "Insert search tags to help users find your model (optional): .\n",
            "Provide any useful notes about your model (optional): .\n",
            "\n",
            "Your model has been submitted as model version 840\n",
            "\n",
            "To submit code used to create this model or to view current leaderboard navigate to Model Playground: \n",
            "\n",
            " https://www.modelshare.org/detail/model:3164\n"
          ]
        }
      ]
    },
    {
      "cell_type": "markdown",
      "source": [
        "The above model was the first model tried prior to discussion. 300 is the number of n estimators and max depth is 3. "
      ],
      "metadata": {
        "id": "P5iviFxIRO5e"
      }
    },
    {
      "cell_type": "markdown",
      "source": [
        "## Random Forest Classifier with n estimators as 400 , max depth as 3. (Version 471 and 842)."
      ],
      "metadata": {
        "id": "mAySLKJIMXEc"
      }
    },
    {
      "cell_type": "code",
      "metadata": {
        "colab": {
          "base_uri": "https://localhost:8080/"
        },
        "id": "NCbBf8j9ClYl",
        "outputId": "22e6b021-f6be-4ed5-c625-c3e8d9636b9c"
      },
      "source": [
        "from sklearn.ensemble import RandomForestClassifier\n",
        "\n",
        "model = RandomForestClassifier(n_estimators=400, max_depth=3)\n",
        "model.fit(preprocessor(X_train), y_train_labels) # Fitting to the training set.\n",
        "model.score(preprocessor(X_train), y_train_labels) # Fit score, 0-1 scale."
      ],
      "execution_count": null,
      "outputs": [
        {
          "output_type": "execute_result",
          "data": {
            "text/plain": [
              "0.8409090909090909"
            ]
          },
          "metadata": {},
          "execution_count": 271
        }
      ]
    },
    {
      "cell_type": "markdown",
      "metadata": {
        "id": "zmJAnmO-5AcU"
      },
      "source": [
        "#### Save preprocessor function to local \"preprocessor.zip\" file"
      ]
    },
    {
      "cell_type": "code",
      "metadata": {
        "colab": {
          "base_uri": "https://localhost:8080/"
        },
        "id": "4VGacc0LDaMA",
        "outputId": "40aeafc2-1c2d-4f63-dd14-921c701effb9"
      },
      "source": [
        "import aimodelshare as ai\n",
        "ai.export_preprocessor(preprocessor,\"\") "
      ],
      "execution_count": null,
      "outputs": [
        {
          "output_type": "stream",
          "name": "stdout",
          "text": [
            "Your preprocessor is now saved to 'preprocessor.zip'\n"
          ]
        }
      ]
    },
    {
      "cell_type": "markdown",
      "metadata": {
        "id": "oOWBa8Cv5LdL"
      },
      "source": [
        "#### Save model to local \".onnx\" file"
      ]
    },
    {
      "cell_type": "code",
      "metadata": {
        "id": "pEhvnRiQDlY5"
      },
      "source": [
        "# Save sklearn model to local ONNX file\n",
        "from aimodelshare.aimsonnx import model_to_onnx\n",
        "\n",
        "# Check how many preprocessed input features are there?\n",
        "from skl2onnx.common.data_types import FloatTensorType\n",
        "\n",
        "feature_count=preprocessor(X_test).shape[1] #Get count of preprocessed features\n",
        "initial_type = [('float_input', FloatTensorType([None, feature_count]))]  #Insert correct number of preprocessed features\n",
        "\n",
        "onnx_model = model_to_onnx(model, framework='sklearn',\n",
        "                          initial_types=initial_type,\n",
        "                          transfer_learning=False,\n",
        "                          deep_learning=False)\n",
        "\n",
        "with open(\"model.onnx\", \"wb\") as f:\n",
        "    f.write(onnx_model.SerializeToString())"
      ],
      "execution_count": null,
      "outputs": []
    },
    {
      "cell_type": "code",
      "metadata": {
        "colab": {
          "base_uri": "https://localhost:8080/"
        },
        "id": "RtgkM02MDpkO",
        "outputId": "88e3f092-9980-4eaf-d9c9-0c03e1489ef2"
      },
      "source": [
        "#Set credentials using modelshare.org username/password\n",
        "\n",
        "from aimodelshare.aws import set_credentials\n",
        "\n",
        "#This is the unique rest api that powers this World Happiness Classification Playground -- make sure to update the apiurl for new competition deployments\n",
        "apiurl=\"https://e2w6gh3id1.execute-api.us-east-2.amazonaws.com/prod/m\"\n",
        "\n",
        "set_credentials(apiurl=apiurl)"
      ],
      "execution_count": null,
      "outputs": [
        {
          "output_type": "stream",
          "name": "stdout",
          "text": [
            "AI Modelshare Username:··········\n",
            "AI Modelshare Password:··········\n",
            "AI Model Share login credentials set successfully.\n"
          ]
        }
      ]
    },
    {
      "cell_type": "code",
      "metadata": {
        "id": "fKNGSww8EGgi"
      },
      "source": [
        "#Instantiate Competition\n",
        "import aimodelshare as ai\n",
        "mycompetition= ai.Competition(apiurl)"
      ],
      "execution_count": null,
      "outputs": []
    },
    {
      "cell_type": "code",
      "metadata": {
        "id": "_Ql4wksyEUnP",
        "colab": {
          "base_uri": "https://localhost:8080/"
        },
        "outputId": "261c8d5d-7b48-48db-8640-956120baf014"
      },
      "source": [
        "#Submit Model 1: (Version 471)\n",
        "\n",
        "#-- Generate predicted values (Model 1)\n",
        "prediction_labels = model.predict(preprocessor(X_test))\n",
        "\n",
        "# Submit Model 1 to Competition Leaderboard\n",
        "mycompetition.submit_model(model_filepath = \"model.onnx\",\n",
        "                                 preprocessor_filepath=\"preprocessor.zip\",\n",
        "                                 prediction_submission=prediction_labels,\n",
        "                                 custom_metadata={\"team\":\"1\"})"
      ],
      "execution_count": null,
      "outputs": [
        {
          "output_type": "stream",
          "name": "stdout",
          "text": [
            "Insert search tags to help users find your model (optional): .\n",
            "Provide any useful notes about your model (optional): .\n",
            "\n",
            "Your model has been submitted as model version 842\n",
            "\n",
            "To submit code used to create this model or to view current leaderboard navigate to Model Playground: \n",
            "\n",
            " https://www.modelshare.org/detail/model:3164\n"
          ]
        }
      ]
    },
    {
      "cell_type": "code",
      "metadata": {
        "id": "GN1zvAmNEq17"
      },
      "source": [
        "# Get leaderboard to explore current best model architectures\n",
        "\n",
        "# Get raw data in pandas data frame\n",
        "data = mycompetition.get_leaderboard()\n",
        "\n",
        "# Stylize leaderboard data\n",
        "mycompetition.stylize_leaderboard(data)"
      ],
      "execution_count": null,
      "outputs": []
    },
    {
      "cell_type": "markdown",
      "source": [
        "## Using Random Forest Classifier with n estimators as 100 and max depth as 5. (Version 473 and 843))"
      ],
      "metadata": {
        "id": "Pb1W4SWe5eT4"
      }
    },
    {
      "cell_type": "code",
      "source": [
        "# Train and submit model 2 using same preprocessor (note that you could save a new preprocessor, but we will use the same one for this example).\n",
        "from sklearn.ensemble import RandomForestClassifier\n",
        "\n",
        "model_2 = RandomForestClassifier(n_estimators=100, max_depth=5)\n",
        "model_2.fit(preprocessor(X_train), y_train_labels) # Fitting to the training set.\n",
        "model_2.score(preprocessor(X_train), y_train_labels) # Fit score, 0-1 scale."
      ],
      "metadata": {
        "id": "kaPQHzg55mgQ",
        "outputId": "826cb172-d392-404f-9558-e29dd3e26f5d",
        "colab": {
          "base_uri": "https://localhost:8080/"
        }
      },
      "execution_count": null,
      "outputs": [
        {
          "output_type": "execute_result",
          "data": {
            "text/plain": [
              "0.9545454545454546"
            ]
          },
          "metadata": {},
          "execution_count": 274
        }
      ]
    },
    {
      "cell_type": "code",
      "source": [
        "# Save sklearn model to local ONNX file\n",
        "from aimodelshare.aimsonnx import model_to_onnx\n",
        "\n",
        "feature_count=preprocessor(X_test).shape[1] #Get count of preprocessed features\n",
        "initial_type = [('float_input', FloatTensorType([None, feature_count]))]  # Insert correct number of preprocessed features\n",
        "\n",
        "onnx_model = model_to_onnx(model_2, framework='sklearn',\n",
        "                          initial_types=initial_type,\n",
        "                          transfer_learning=False,\n",
        "                          deep_learning=False)\n",
        "\n",
        "with open(\"model2.onnx\", \"wb\") as f:\n",
        "    f.write(onnx_model.SerializeToString())"
      ],
      "metadata": {
        "id": "k3fxieJk5oxQ"
      },
      "execution_count": null,
      "outputs": []
    },
    {
      "cell_type": "code",
      "source": [
        "#Submit Model 2: \n",
        "\n",
        "#-- Generate predicted y values (Model 2)\n",
        "prediction_labels = model_2.predict(preprocessor(X_test))\n",
        "\n",
        "# Submit Model 2 to Competition Leaderboard\n",
        "mycompetition.submit_model(model_filepath = \"model2.onnx\",\n",
        "                                 prediction_submission=prediction_labels,\n",
        "                                 preprocessor_filepath=\"preprocessor.zip\",\n",
        "                                 custom_metadata={\"team\":\"1\"})"
      ],
      "metadata": {
        "id": "NiBrvmHd5o06",
        "outputId": "1441c270-074d-4895-e773-25a0a3f36fe7",
        "colab": {
          "base_uri": "https://localhost:8080/"
        }
      },
      "execution_count": null,
      "outputs": [
        {
          "output_type": "stream",
          "name": "stdout",
          "text": [
            "Insert search tags to help users find your model (optional): .\n",
            "Provide any useful notes about your model (optional): .\n",
            "\n",
            "Your model has been submitted as model version 843\n",
            "\n",
            "To submit code used to create this model or to view current leaderboard navigate to Model Playground: \n",
            "\n",
            " https://www.modelshare.org/detail/model:3164\n"
          ]
        }
      ]
    },
    {
      "cell_type": "markdown",
      "source": [
        "## Using Random Forest Classifier with n estimators as 100 and max depth as 6. (Version 473 and 844)"
      ],
      "metadata": {
        "id": "5aaK_li05DMp"
      }
    },
    {
      "cell_type": "code",
      "metadata": {
        "colab": {
          "base_uri": "https://localhost:8080/"
        },
        "id": "FgSs5PAtPCZH",
        "outputId": "373f6fb4-190a-4eda-cc1f-d6f74fbac841"
      },
      "source": [
        "# Train and submit model 2 using same preprocessor (note that you could save a new preprocessor, but we will use the same one for this example).\n",
        "from sklearn.ensemble import RandomForestClassifier\n",
        "\n",
        "model_2 = RandomForestClassifier(n_estimators=100, max_depth=6)\n",
        "model_2.fit(preprocessor(X_train), y_train_labels) # Fitting to the training set.\n",
        "model_2.score(preprocessor(X_train), y_train_labels) # Fit score, 0-1 scale."
      ],
      "execution_count": null,
      "outputs": [
        {
          "output_type": "execute_result",
          "data": {
            "text/plain": [
              "0.9886363636363636"
            ]
          },
          "metadata": {},
          "execution_count": 277
        }
      ]
    },
    {
      "cell_type": "code",
      "metadata": {
        "id": "aIdmSpYVPYAw"
      },
      "source": [
        "# Save sklearn model to local ONNX file\n",
        "from aimodelshare.aimsonnx import model_to_onnx\n",
        "\n",
        "feature_count=preprocessor(X_test).shape[1] #Get count of preprocessed features\n",
        "initial_type = [('float_input', FloatTensorType([None, feature_count]))]  # Insert correct number of preprocessed features\n",
        "\n",
        "onnx_model = model_to_onnx(model_2, framework='sklearn',\n",
        "                          initial_types=initial_type,\n",
        "                          transfer_learning=False,\n",
        "                          deep_learning=False)\n",
        "\n",
        "with open(\"model2.onnx\", \"wb\") as f:\n",
        "    f.write(onnx_model.SerializeToString())"
      ],
      "execution_count": null,
      "outputs": []
    },
    {
      "cell_type": "code",
      "metadata": {
        "colab": {
          "base_uri": "https://localhost:8080/"
        },
        "id": "nszPPrfwPlUk",
        "outputId": "9183b944-9d01-4bfd-d232-9c195061d270"
      },
      "source": [
        "#Submit Model 2: \n",
        "\n",
        "#-- Generate predicted y values (Model 2)\n",
        "prediction_labels = model_2.predict(preprocessor(X_test))\n",
        "\n",
        "# Submit Model 2 to Competition Leaderboard\n",
        "mycompetition.submit_model(model_filepath = \"model2.onnx\",\n",
        "                                 prediction_submission=prediction_labels,\n",
        "                                 preprocessor_filepath=\"preprocessor.zip\")"
      ],
      "execution_count": null,
      "outputs": [
        {
          "output_type": "stream",
          "name": "stdout",
          "text": [
            "Insert search tags to help users find your model (optional): .\n",
            "Provide any useful notes about your model (optional): .\n",
            "\n",
            "Your model has been submitted as model version 844\n",
            "\n",
            "To submit code used to create this model or to view current leaderboard navigate to Model Playground: \n",
            "\n",
            " https://www.modelshare.org/detail/model:3164\n"
          ]
        }
      ]
    },
    {
      "cell_type": "code",
      "metadata": {
        "colab": {
          "base_uri": "https://localhost:8080/",
          "height": 521
        },
        "id": "qLl7yLpVEx26",
        "outputId": "9fcc8f11-5561-4f7b-f2aa-6eed21ecf469"
      },
      "source": [
        "# Compare two or more models\n",
        "data=mycompetition.compare_models([2,3], verbose=1)\n",
        "mycompetition.stylize_compare(data)"
      ],
      "execution_count": null,
      "outputs": [
        {
          "output_type": "display_data",
          "data": {
            "text/plain": [
              "<IPython.core.display.HTML object>"
            ],
            "text/html": [
              "<style type=\"text/css\">\n",
              "#T_d2f28_ caption {\n",
              "  color: black;\n",
              "  font-size: 18px;\n",
              "}\n",
              "#T_d2f28_row4_col2, #T_d2f28_row4_col3, #T_d2f28_row13_col2 {\n",
              "  background: tomato;\n",
              "}\n",
              "</style>\n",
              "<table id=\"T_d2f28_\">\n",
              "  <caption>Model type: RandomForestClassifier</caption>\n",
              "  <thead>\n",
              "    <tr>\n",
              "      <th class=\"blank level0\" >&nbsp;</th>\n",
              "      <th class=\"col_heading level0 col0\" >param_name</th>\n",
              "      <th class=\"col_heading level0 col1\" >default_value</th>\n",
              "      <th class=\"col_heading level0 col2\" >model_version_2</th>\n",
              "      <th class=\"col_heading level0 col3\" >model_version_3</th>\n",
              "    </tr>\n",
              "  </thead>\n",
              "  <tbody>\n",
              "    <tr>\n",
              "      <th id=\"T_d2f28_level0_row0\" class=\"row_heading level0 row0\" >0</th>\n",
              "      <td id=\"T_d2f28_row0_col0\" class=\"data row0 col0\" >bootstrap</td>\n",
              "      <td id=\"T_d2f28_row0_col1\" class=\"data row0 col1\" >True</td>\n",
              "      <td id=\"T_d2f28_row0_col2\" class=\"data row0 col2\" >True</td>\n",
              "      <td id=\"T_d2f28_row0_col3\" class=\"data row0 col3\" >True</td>\n",
              "    </tr>\n",
              "    <tr>\n",
              "      <th id=\"T_d2f28_level0_row1\" class=\"row_heading level0 row1\" >1</th>\n",
              "      <td id=\"T_d2f28_row1_col0\" class=\"data row1 col0\" >ccp_alpha</td>\n",
              "      <td id=\"T_d2f28_row1_col1\" class=\"data row1 col1\" >0.000000</td>\n",
              "      <td id=\"T_d2f28_row1_col2\" class=\"data row1 col2\" >0.000000</td>\n",
              "      <td id=\"T_d2f28_row1_col3\" class=\"data row1 col3\" >0.000000</td>\n",
              "    </tr>\n",
              "    <tr>\n",
              "      <th id=\"T_d2f28_level0_row2\" class=\"row_heading level0 row2\" >2</th>\n",
              "      <td id=\"T_d2f28_row2_col0\" class=\"data row2 col0\" >class_weight</td>\n",
              "      <td id=\"T_d2f28_row2_col1\" class=\"data row2 col1\" >None</td>\n",
              "      <td id=\"T_d2f28_row2_col2\" class=\"data row2 col2\" >None</td>\n",
              "      <td id=\"T_d2f28_row2_col3\" class=\"data row2 col3\" >None</td>\n",
              "    </tr>\n",
              "    <tr>\n",
              "      <th id=\"T_d2f28_level0_row3\" class=\"row_heading level0 row3\" >3</th>\n",
              "      <td id=\"T_d2f28_row3_col0\" class=\"data row3 col0\" >criterion</td>\n",
              "      <td id=\"T_d2f28_row3_col1\" class=\"data row3 col1\" >gini</td>\n",
              "      <td id=\"T_d2f28_row3_col2\" class=\"data row3 col2\" >gini</td>\n",
              "      <td id=\"T_d2f28_row3_col3\" class=\"data row3 col3\" >gini</td>\n",
              "    </tr>\n",
              "    <tr>\n",
              "      <th id=\"T_d2f28_level0_row4\" class=\"row_heading level0 row4\" >4</th>\n",
              "      <td id=\"T_d2f28_row4_col0\" class=\"data row4 col0\" >max_depth</td>\n",
              "      <td id=\"T_d2f28_row4_col1\" class=\"data row4 col1\" >None</td>\n",
              "      <td id=\"T_d2f28_row4_col2\" class=\"data row4 col2\" >3</td>\n",
              "      <td id=\"T_d2f28_row4_col3\" class=\"data row4 col3\" >5</td>\n",
              "    </tr>\n",
              "    <tr>\n",
              "      <th id=\"T_d2f28_level0_row5\" class=\"row_heading level0 row5\" >5</th>\n",
              "      <td id=\"T_d2f28_row5_col0\" class=\"data row5 col0\" >max_features</td>\n",
              "      <td id=\"T_d2f28_row5_col1\" class=\"data row5 col1\" >auto</td>\n",
              "      <td id=\"T_d2f28_row5_col2\" class=\"data row5 col2\" >auto</td>\n",
              "      <td id=\"T_d2f28_row5_col3\" class=\"data row5 col3\" >auto</td>\n",
              "    </tr>\n",
              "    <tr>\n",
              "      <th id=\"T_d2f28_level0_row6\" class=\"row_heading level0 row6\" >6</th>\n",
              "      <td id=\"T_d2f28_row6_col0\" class=\"data row6 col0\" >max_leaf_nodes</td>\n",
              "      <td id=\"T_d2f28_row6_col1\" class=\"data row6 col1\" >None</td>\n",
              "      <td id=\"T_d2f28_row6_col2\" class=\"data row6 col2\" >None</td>\n",
              "      <td id=\"T_d2f28_row6_col3\" class=\"data row6 col3\" >None</td>\n",
              "    </tr>\n",
              "    <tr>\n",
              "      <th id=\"T_d2f28_level0_row7\" class=\"row_heading level0 row7\" >7</th>\n",
              "      <td id=\"T_d2f28_row7_col0\" class=\"data row7 col0\" >max_samples</td>\n",
              "      <td id=\"T_d2f28_row7_col1\" class=\"data row7 col1\" >None</td>\n",
              "      <td id=\"T_d2f28_row7_col2\" class=\"data row7 col2\" >None</td>\n",
              "      <td id=\"T_d2f28_row7_col3\" class=\"data row7 col3\" >None</td>\n",
              "    </tr>\n",
              "    <tr>\n",
              "      <th id=\"T_d2f28_level0_row8\" class=\"row_heading level0 row8\" >8</th>\n",
              "      <td id=\"T_d2f28_row8_col0\" class=\"data row8 col0\" >min_impurity_decrease</td>\n",
              "      <td id=\"T_d2f28_row8_col1\" class=\"data row8 col1\" >0.000000</td>\n",
              "      <td id=\"T_d2f28_row8_col2\" class=\"data row8 col2\" >0.000000</td>\n",
              "      <td id=\"T_d2f28_row8_col3\" class=\"data row8 col3\" >0.000000</td>\n",
              "    </tr>\n",
              "    <tr>\n",
              "      <th id=\"T_d2f28_level0_row9\" class=\"row_heading level0 row9\" >9</th>\n",
              "      <td id=\"T_d2f28_row9_col0\" class=\"data row9 col0\" >min_impurity_split</td>\n",
              "      <td id=\"T_d2f28_row9_col1\" class=\"data row9 col1\" >None</td>\n",
              "      <td id=\"T_d2f28_row9_col2\" class=\"data row9 col2\" >None</td>\n",
              "      <td id=\"T_d2f28_row9_col3\" class=\"data row9 col3\" >None</td>\n",
              "    </tr>\n",
              "    <tr>\n",
              "      <th id=\"T_d2f28_level0_row10\" class=\"row_heading level0 row10\" >10</th>\n",
              "      <td id=\"T_d2f28_row10_col0\" class=\"data row10 col0\" >min_samples_leaf</td>\n",
              "      <td id=\"T_d2f28_row10_col1\" class=\"data row10 col1\" >1</td>\n",
              "      <td id=\"T_d2f28_row10_col2\" class=\"data row10 col2\" >1</td>\n",
              "      <td id=\"T_d2f28_row10_col3\" class=\"data row10 col3\" >1</td>\n",
              "    </tr>\n",
              "    <tr>\n",
              "      <th id=\"T_d2f28_level0_row11\" class=\"row_heading level0 row11\" >11</th>\n",
              "      <td id=\"T_d2f28_row11_col0\" class=\"data row11 col0\" >min_samples_split</td>\n",
              "      <td id=\"T_d2f28_row11_col1\" class=\"data row11 col1\" >2</td>\n",
              "      <td id=\"T_d2f28_row11_col2\" class=\"data row11 col2\" >2</td>\n",
              "      <td id=\"T_d2f28_row11_col3\" class=\"data row11 col3\" >2</td>\n",
              "    </tr>\n",
              "    <tr>\n",
              "      <th id=\"T_d2f28_level0_row12\" class=\"row_heading level0 row12\" >12</th>\n",
              "      <td id=\"T_d2f28_row12_col0\" class=\"data row12 col0\" >min_weight_fraction_leaf</td>\n",
              "      <td id=\"T_d2f28_row12_col1\" class=\"data row12 col1\" >0.000000</td>\n",
              "      <td id=\"T_d2f28_row12_col2\" class=\"data row12 col2\" >0.000000</td>\n",
              "      <td id=\"T_d2f28_row12_col3\" class=\"data row12 col3\" >0.000000</td>\n",
              "    </tr>\n",
              "    <tr>\n",
              "      <th id=\"T_d2f28_level0_row13\" class=\"row_heading level0 row13\" >13</th>\n",
              "      <td id=\"T_d2f28_row13_col0\" class=\"data row13 col0\" >n_estimators</td>\n",
              "      <td id=\"T_d2f28_row13_col1\" class=\"data row13 col1\" >100</td>\n",
              "      <td id=\"T_d2f28_row13_col2\" class=\"data row13 col2\" >300</td>\n",
              "      <td id=\"T_d2f28_row13_col3\" class=\"data row13 col3\" >100</td>\n",
              "    </tr>\n",
              "    <tr>\n",
              "      <th id=\"T_d2f28_level0_row14\" class=\"row_heading level0 row14\" >14</th>\n",
              "      <td id=\"T_d2f28_row14_col0\" class=\"data row14 col0\" >n_jobs</td>\n",
              "      <td id=\"T_d2f28_row14_col1\" class=\"data row14 col1\" >None</td>\n",
              "      <td id=\"T_d2f28_row14_col2\" class=\"data row14 col2\" >None</td>\n",
              "      <td id=\"T_d2f28_row14_col3\" class=\"data row14 col3\" >None</td>\n",
              "    </tr>\n",
              "    <tr>\n",
              "      <th id=\"T_d2f28_level0_row15\" class=\"row_heading level0 row15\" >15</th>\n",
              "      <td id=\"T_d2f28_row15_col0\" class=\"data row15 col0\" >oob_score</td>\n",
              "      <td id=\"T_d2f28_row15_col1\" class=\"data row15 col1\" >False</td>\n",
              "      <td id=\"T_d2f28_row15_col2\" class=\"data row15 col2\" >False</td>\n",
              "      <td id=\"T_d2f28_row15_col3\" class=\"data row15 col3\" >False</td>\n",
              "    </tr>\n",
              "    <tr>\n",
              "      <th id=\"T_d2f28_level0_row16\" class=\"row_heading level0 row16\" >16</th>\n",
              "      <td id=\"T_d2f28_row16_col0\" class=\"data row16 col0\" >random_state</td>\n",
              "      <td id=\"T_d2f28_row16_col1\" class=\"data row16 col1\" >None</td>\n",
              "      <td id=\"T_d2f28_row16_col2\" class=\"data row16 col2\" >None</td>\n",
              "      <td id=\"T_d2f28_row16_col3\" class=\"data row16 col3\" >None</td>\n",
              "    </tr>\n",
              "    <tr>\n",
              "      <th id=\"T_d2f28_level0_row17\" class=\"row_heading level0 row17\" >17</th>\n",
              "      <td id=\"T_d2f28_row17_col0\" class=\"data row17 col0\" >verbose</td>\n",
              "      <td id=\"T_d2f28_row17_col1\" class=\"data row17 col1\" >0</td>\n",
              "      <td id=\"T_d2f28_row17_col2\" class=\"data row17 col2\" >0</td>\n",
              "      <td id=\"T_d2f28_row17_col3\" class=\"data row17 col3\" >0</td>\n",
              "    </tr>\n",
              "    <tr>\n",
              "      <th id=\"T_d2f28_level0_row18\" class=\"row_heading level0 row18\" >18</th>\n",
              "      <td id=\"T_d2f28_row18_col0\" class=\"data row18 col0\" >warm_start</td>\n",
              "      <td id=\"T_d2f28_row18_col1\" class=\"data row18 col1\" >False</td>\n",
              "      <td id=\"T_d2f28_row18_col2\" class=\"data row18 col2\" >False</td>\n",
              "      <td id=\"T_d2f28_row18_col3\" class=\"data row18 col3\" >False</td>\n",
              "    </tr>\n",
              "  </tbody>\n",
              "</table>\n"
            ]
          },
          "metadata": {}
        },
        {
          "output_type": "stream",
          "name": "stdout",
          "text": [
            "\n",
            "\n",
            "\n"
          ]
        }
      ]
    },
    {
      "cell_type": "markdown",
      "source": [
        "## Using grid search cv to determine best parameters and then submitting models with those parameters.(100,300,500)(Version 792 and 846) "
      ],
      "metadata": {
        "id": "fsXScYS66eFq"
      }
    },
    {
      "cell_type": "code",
      "source": [
        "# Submit a third model using GridSearchCV\n",
        "\n",
        "from sklearn.ensemble import RandomForestClassifier\n",
        "from sklearn.model_selection import GridSearchCV\n",
        "import numpy as np\n",
        "\n",
        "param_grid = {'n_estimators': np.arange(100, 300, 500),'max_depth':[1, 3, 5]} #np.arange creates sequence of numbers for each k value\n",
        "\n",
        "gridmodel = GridSearchCV(RandomForestClassifier(), param_grid=param_grid, cv=10)\n",
        "\n",
        "#use meta model methods to fit score and predict model:\n",
        "gridmodel.fit(preprocessor(X_train), y_train_labels)\n",
        "\n",
        "#extract best score and parameter by calling objects \"best_score_\" and \"best_params_\"\n",
        "print(\"best mean cross-validation score: {:.3f}\".format(gridmodel.best_score_))\n",
        "print(\"best parameters: {}\".format(gridmodel.best_params_))"
      ],
      "metadata": {
        "id": "7FKHVkypOKDT",
        "outputId": "5b34b542-71d9-46cd-c99a-023650bff27d",
        "colab": {
          "base_uri": "https://localhost:8080/"
        }
      },
      "execution_count": null,
      "outputs": [
        {
          "output_type": "stream",
          "name": "stdout",
          "text": [
            "best mean cross-validation score: 0.682\n",
            "best parameters: {'max_depth': 5, 'n_estimators': 100}\n"
          ]
        }
      ]
    },
    {
      "cell_type": "code",
      "source": [
        "# Save sklearn model to local ONNX file\n",
        "from aimodelshare.aimsonnx import model_to_onnx\n",
        "\n",
        "feature_count=preprocessor(X_test).shape[1] #Get count of preprocessed features\n",
        "initial_type = [('float_input', FloatTensorType([None, feature_count]))]  # Insert correct number of preprocessed features\n",
        "\n",
        "onnx_model = model_to_onnx(gridmodel, framework='sklearn',\n",
        "                          initial_types=initial_type,\n",
        "                          transfer_learning=False,\n",
        "                          deep_learning=False)\n",
        "\n",
        "with open(\"gridmodel.onnx\", \"wb\") as f:\n",
        "    f.write(onnx_model.SerializeToString())"
      ],
      "metadata": {
        "id": "odPOjZu1OKG-"
      },
      "execution_count": null,
      "outputs": []
    },
    {
      "cell_type": "code",
      "source": [
        "#Submit Model 3: \n",
        "\n",
        "#-- Generate predicted values\n",
        "prediction_labels = gridmodel.predict(preprocessor(X_test))\n",
        "\n",
        "# Submit to Competition Leaderboard\n",
        "mycompetition.submit_model(model_filepath = \"gridmodel.onnx\",\n",
        "                                 preprocessor_filepath=\"preprocessor.zip\",\n",
        "                                 prediction_submission=prediction_labels,\n",
        "                                 custom_metadata={\"team\":\"1\"})"
      ],
      "metadata": {
        "id": "TJfichJVOKK1",
        "outputId": "b1d47330-46e0-4c9b-a722-594b40797d0a",
        "colab": {
          "base_uri": "https://localhost:8080/"
        }
      },
      "execution_count": null,
      "outputs": [
        {
          "output_type": "stream",
          "name": "stdout",
          "text": [
            "Insert search tags to help users find your model (optional): .\n",
            "Provide any useful notes about your model (optional): .\n",
            "\n",
            "Your model has been submitted as model version 846\n",
            "\n",
            "To submit code used to create this model or to view current leaderboard navigate to Model Playground: \n",
            "\n",
            " https://www.modelshare.org/detail/model:3164\n"
          ]
        }
      ]
    },
    {
      "cell_type": "markdown",
      "source": [
        "## Using Random Forest Classifier with n estimators as 100 , max depth as 5. (Version 794 and 849)"
      ],
      "metadata": {
        "id": "rS0shvw4PKt0"
      }
    },
    {
      "cell_type": "code",
      "source": [
        "model = RandomForestClassifier(n_estimators=100,\n",
        "    max_depth=5).fit(preprocessor(X_train), y_train_labels)\n",
        "model.score(preprocessor(X_train), y_train_labels)"
      ],
      "metadata": {
        "id": "Mbf01vOPOSQg",
        "outputId": "c566f46d-1e24-4c50-de18-d5bc1b6bfded",
        "colab": {
          "base_uri": "https://localhost:8080/"
        }
      },
      "execution_count": null,
      "outputs": [
        {
          "output_type": "execute_result",
          "data": {
            "text/plain": [
              "0.9545454545454546"
            ]
          },
          "metadata": {},
          "execution_count": 283
        }
      ]
    },
    {
      "cell_type": "code",
      "source": [
        "# Save sklearn model to local ONNX file\n",
        "from aimodelshare.aimsonnx import model_to_onnx\n",
        "\n",
        "feature_count=preprocessor(X_test).shape[1] #Get count of preprocessed features\n",
        "initial_type = [('float_input', FloatTensorType([None, feature_count]))]  # Insert correct number of preprocessed features\n",
        "\n",
        "onnx_model = model_to_onnx(model, framework='sklearn',\n",
        "                          initial_types=initial_type,\n",
        "                          transfer_learning=False,\n",
        "                          deep_learning=False)\n",
        "\n",
        "with open(\"gridmodel.onnx\", \"wb\") as f:\n",
        "    f.write(onnx_model.SerializeToString())"
      ],
      "metadata": {
        "id": "ThCdIeS2OSTZ"
      },
      "execution_count": null,
      "outputs": []
    },
    {
      "cell_type": "code",
      "source": [
        "#Submit Model 3: \n",
        "\n",
        "#-- Generate predicted values\n",
        "prediction_labels = model.predict(preprocessor(X_test))\n",
        "\n",
        "# Submit to Competition Leaderboard\n",
        "mycompetition.submit_model(model_filepath = \"model.onnx\",\n",
        "                                 preprocessor_filepath=\"preprocessor.zip\",\n",
        "                                 prediction_submission=prediction_labels,\n",
        "                                 custom_metadata={\"team\":\"1\"})"
      ],
      "metadata": {
        "id": "obUKpLqQOfuY",
        "outputId": "a389e2e3-2e2b-4465-a8ce-5556657c67f1",
        "colab": {
          "base_uri": "https://localhost:8080/"
        }
      },
      "execution_count": null,
      "outputs": [
        {
          "output_type": "stream",
          "name": "stdout",
          "text": [
            "Insert search tags to help users find your model (optional): .\n",
            "Provide any useful notes about your model (optional): .\n",
            "\n",
            "Your model has been submitted as model version 849\n",
            "\n",
            "To submit code used to create this model or to view current leaderboard navigate to Model Playground: \n",
            "\n",
            " https://www.modelshare.org/detail/model:3164\n"
          ]
        }
      ]
    },
    {
      "cell_type": "markdown",
      "source": [
        "## Using grid search cv to determine best parameters for Random Forest and then submitting models with those parameters.(300,500,700)"
      ],
      "metadata": {
        "id": "G-576v-2OV5X"
      }
    },
    {
      "cell_type": "code",
      "metadata": {
        "colab": {
          "base_uri": "https://localhost:8080/"
        },
        "id": "6Go4SF37Ex_Z",
        "outputId": "daa7e722-2c14-44b7-e088-1813491fc8c3"
      },
      "source": [
        "# Submit a third model using GridSearchCV\n",
        "\n",
        "from sklearn.ensemble import RandomForestClassifier\n",
        "from sklearn.model_selection import GridSearchCV\n",
        "import numpy as np\n",
        "\n",
        "param_grid = {'n_estimators': np.arange(300, 500, 700),'max_depth':[7, 9, 11]} #np.arange creates sequence of numbers for each k value\n",
        "\n",
        "gridmodel = GridSearchCV(RandomForestClassifier(), param_grid=param_grid, cv=10)\n",
        "\n",
        "#use meta model methods to fit score and predict model:\n",
        "gridmodel.fit(preprocessor(X_train), y_train_labels)\n",
        "\n",
        "#extract best score and parameter by calling objects \"best_score_\" and \"best_params_\"\n",
        "print(\"best mean cross-validation score: {:.3f}\".format(gridmodel.best_score_))\n",
        "print(\"best parameters: {}\".format(gridmodel.best_params_))\n"
      ],
      "execution_count": null,
      "outputs": [
        {
          "output_type": "stream",
          "name": "stdout",
          "text": [
            "best mean cross-validation score: 0.692\n",
            "best parameters: {'max_depth': 7, 'n_estimators': 300}\n"
          ]
        }
      ]
    },
    {
      "cell_type": "markdown",
      "source": [
        "## Using Random Forest Classifier with n estimators as 300 , max depth as 7. (Version 766 and 850)\n",
        "\n"
      ],
      "metadata": {
        "id": "2eii5s6z6pVX"
      }
    },
    {
      "cell_type": "code",
      "source": [
        "model = RandomForestClassifier(n_estimators=300,\n",
        "    max_depth=7).fit(preprocessor(X_train), y_train_labels)\n",
        "model.score(preprocessor(X_train), y_train_labels)"
      ],
      "metadata": {
        "id": "HY2GhYoh9D7a",
        "outputId": "83c9501b-5ead-440b-bfde-fce8531ac7b7",
        "colab": {
          "base_uri": "https://localhost:8080/"
        }
      },
      "execution_count": null,
      "outputs": [
        {
          "output_type": "execute_result",
          "data": {
            "text/plain": [
              "1.0"
            ]
          },
          "metadata": {},
          "execution_count": 288
        }
      ]
    },
    {
      "cell_type": "code",
      "metadata": {
        "id": "HvLuIvOjHLH2"
      },
      "source": [
        "# Save sklearn model to local ONNX file\n",
        "from aimodelshare.aimsonnx import model_to_onnx\n",
        "\n",
        "feature_count=preprocessor(X_test).shape[1] #Get count of preprocessed features\n",
        "initial_type = [('float_input', FloatTensorType([None, feature_count]))]  # Insert correct number of preprocessed features\n",
        "\n",
        "onnx_model = model_to_onnx(model, framework='sklearn',\n",
        "                          initial_types=initial_type,\n",
        "                          transfer_learning=False,\n",
        "                          deep_learning=False)\n",
        "\n",
        "with open(\"gridmodel.onnx\", \"wb\") as f:\n",
        "    f.write(onnx_model.SerializeToString())"
      ],
      "execution_count": null,
      "outputs": []
    },
    {
      "cell_type": "code",
      "metadata": {
        "colab": {
          "base_uri": "https://localhost:8080/"
        },
        "id": "sMidHABfHVN7",
        "outputId": "a5a676f8-038b-4fa8-bd2d-53ca1b192bf0"
      },
      "source": [
        "#Submit Model 3: \n",
        "\n",
        "#-- Generate predicted values\n",
        "prediction_labels = model.predict(preprocessor(X_test))\n",
        "\n",
        "# Submit to Competition Leaderboard\n",
        "mycompetition.submit_model(model_filepath = \"model.onnx\",\n",
        "                                 preprocessor_filepath=\"preprocessor.zip\",\n",
        "                                 prediction_submission=prediction_labels,\n",
        "                                 custom_metadata={\"team\":\"1\"})"
      ],
      "execution_count": null,
      "outputs": [
        {
          "output_type": "stream",
          "name": "stdout",
          "text": [
            "Insert search tags to help users find your model (optional): .\n",
            "Provide any useful notes about your model (optional): .\n",
            "\n",
            "Your model has been submitted as model version 850\n",
            "\n",
            "To submit code used to create this model or to view current leaderboard navigate to Model Playground: \n",
            "\n",
            " https://www.modelshare.org/detail/model:3164\n"
          ]
        }
      ]
    },
    {
      "cell_type": "markdown",
      "source": [
        "## Comparing models and leaderboard"
      ],
      "metadata": {
        "id": "UHtdkobSG4cw"
      }
    },
    {
      "cell_type": "code",
      "metadata": {
        "id": "hn-Tp-zpJVGT"
      },
      "source": [
        "# Get leaderboard\n",
        "\n",
        "data = mycompetition.get_leaderboard()\n",
        "mycompetition.stylize_leaderboard(data)"
      ],
      "execution_count": null,
      "outputs": []
    },
    {
      "cell_type": "code",
      "metadata": {
        "id": "MKvPKyb7hT0h",
        "colab": {
          "base_uri": "https://localhost:8080/",
          "height": 521
        },
        "outputId": "b23fa64e-afa3-4de4-fe19-0be8cdfd50c2"
      },
      "source": [
        "# Compare two or more models\n",
        "data=mycompetition.compare_models([3,4], verbose=1)\n",
        "mycompetition.stylize_compare(data)"
      ],
      "execution_count": null,
      "outputs": [
        {
          "output_type": "display_data",
          "data": {
            "text/plain": [
              "<IPython.core.display.HTML object>"
            ],
            "text/html": [
              "<style type=\"text/css\">\n",
              "#T_b4325_ caption {\n",
              "  color: black;\n",
              "  font-size: 18px;\n",
              "}\n",
              "#T_b4325_row4_col2, #T_b4325_row4_col3 {\n",
              "  background: tomato;\n",
              "}\n",
              "</style>\n",
              "<table id=\"T_b4325_\">\n",
              "  <caption>Model type: RandomForestClassifier</caption>\n",
              "  <thead>\n",
              "    <tr>\n",
              "      <th class=\"blank level0\" >&nbsp;</th>\n",
              "      <th class=\"col_heading level0 col0\" >param_name</th>\n",
              "      <th class=\"col_heading level0 col1\" >default_value</th>\n",
              "      <th class=\"col_heading level0 col2\" >model_version_3</th>\n",
              "      <th class=\"col_heading level0 col3\" >model_version_4</th>\n",
              "    </tr>\n",
              "  </thead>\n",
              "  <tbody>\n",
              "    <tr>\n",
              "      <th id=\"T_b4325_level0_row0\" class=\"row_heading level0 row0\" >0</th>\n",
              "      <td id=\"T_b4325_row0_col0\" class=\"data row0 col0\" >bootstrap</td>\n",
              "      <td id=\"T_b4325_row0_col1\" class=\"data row0 col1\" >True</td>\n",
              "      <td id=\"T_b4325_row0_col2\" class=\"data row0 col2\" >True</td>\n",
              "      <td id=\"T_b4325_row0_col3\" class=\"data row0 col3\" >True</td>\n",
              "    </tr>\n",
              "    <tr>\n",
              "      <th id=\"T_b4325_level0_row1\" class=\"row_heading level0 row1\" >1</th>\n",
              "      <td id=\"T_b4325_row1_col0\" class=\"data row1 col0\" >ccp_alpha</td>\n",
              "      <td id=\"T_b4325_row1_col1\" class=\"data row1 col1\" >0.000000</td>\n",
              "      <td id=\"T_b4325_row1_col2\" class=\"data row1 col2\" >0.000000</td>\n",
              "      <td id=\"T_b4325_row1_col3\" class=\"data row1 col3\" >0.000000</td>\n",
              "    </tr>\n",
              "    <tr>\n",
              "      <th id=\"T_b4325_level0_row2\" class=\"row_heading level0 row2\" >2</th>\n",
              "      <td id=\"T_b4325_row2_col0\" class=\"data row2 col0\" >class_weight</td>\n",
              "      <td id=\"T_b4325_row2_col1\" class=\"data row2 col1\" >None</td>\n",
              "      <td id=\"T_b4325_row2_col2\" class=\"data row2 col2\" >None</td>\n",
              "      <td id=\"T_b4325_row2_col3\" class=\"data row2 col3\" >None</td>\n",
              "    </tr>\n",
              "    <tr>\n",
              "      <th id=\"T_b4325_level0_row3\" class=\"row_heading level0 row3\" >3</th>\n",
              "      <td id=\"T_b4325_row3_col0\" class=\"data row3 col0\" >criterion</td>\n",
              "      <td id=\"T_b4325_row3_col1\" class=\"data row3 col1\" >gini</td>\n",
              "      <td id=\"T_b4325_row3_col2\" class=\"data row3 col2\" >gini</td>\n",
              "      <td id=\"T_b4325_row3_col3\" class=\"data row3 col3\" >gini</td>\n",
              "    </tr>\n",
              "    <tr>\n",
              "      <th id=\"T_b4325_level0_row4\" class=\"row_heading level0 row4\" >4</th>\n",
              "      <td id=\"T_b4325_row4_col0\" class=\"data row4 col0\" >max_depth</td>\n",
              "      <td id=\"T_b4325_row4_col1\" class=\"data row4 col1\" >None</td>\n",
              "      <td id=\"T_b4325_row4_col2\" class=\"data row4 col2\" >5</td>\n",
              "      <td id=\"T_b4325_row4_col3\" class=\"data row4 col3\" >5</td>\n",
              "    </tr>\n",
              "    <tr>\n",
              "      <th id=\"T_b4325_level0_row5\" class=\"row_heading level0 row5\" >5</th>\n",
              "      <td id=\"T_b4325_row5_col0\" class=\"data row5 col0\" >max_features</td>\n",
              "      <td id=\"T_b4325_row5_col1\" class=\"data row5 col1\" >auto</td>\n",
              "      <td id=\"T_b4325_row5_col2\" class=\"data row5 col2\" >auto</td>\n",
              "      <td id=\"T_b4325_row5_col3\" class=\"data row5 col3\" >auto</td>\n",
              "    </tr>\n",
              "    <tr>\n",
              "      <th id=\"T_b4325_level0_row6\" class=\"row_heading level0 row6\" >6</th>\n",
              "      <td id=\"T_b4325_row6_col0\" class=\"data row6 col0\" >max_leaf_nodes</td>\n",
              "      <td id=\"T_b4325_row6_col1\" class=\"data row6 col1\" >None</td>\n",
              "      <td id=\"T_b4325_row6_col2\" class=\"data row6 col2\" >None</td>\n",
              "      <td id=\"T_b4325_row6_col3\" class=\"data row6 col3\" >None</td>\n",
              "    </tr>\n",
              "    <tr>\n",
              "      <th id=\"T_b4325_level0_row7\" class=\"row_heading level0 row7\" >7</th>\n",
              "      <td id=\"T_b4325_row7_col0\" class=\"data row7 col0\" >max_samples</td>\n",
              "      <td id=\"T_b4325_row7_col1\" class=\"data row7 col1\" >None</td>\n",
              "      <td id=\"T_b4325_row7_col2\" class=\"data row7 col2\" >None</td>\n",
              "      <td id=\"T_b4325_row7_col3\" class=\"data row7 col3\" >None</td>\n",
              "    </tr>\n",
              "    <tr>\n",
              "      <th id=\"T_b4325_level0_row8\" class=\"row_heading level0 row8\" >8</th>\n",
              "      <td id=\"T_b4325_row8_col0\" class=\"data row8 col0\" >min_impurity_decrease</td>\n",
              "      <td id=\"T_b4325_row8_col1\" class=\"data row8 col1\" >0.000000</td>\n",
              "      <td id=\"T_b4325_row8_col2\" class=\"data row8 col2\" >0.000000</td>\n",
              "      <td id=\"T_b4325_row8_col3\" class=\"data row8 col3\" >0.000000</td>\n",
              "    </tr>\n",
              "    <tr>\n",
              "      <th id=\"T_b4325_level0_row9\" class=\"row_heading level0 row9\" >9</th>\n",
              "      <td id=\"T_b4325_row9_col0\" class=\"data row9 col0\" >min_impurity_split</td>\n",
              "      <td id=\"T_b4325_row9_col1\" class=\"data row9 col1\" >None</td>\n",
              "      <td id=\"T_b4325_row9_col2\" class=\"data row9 col2\" >None</td>\n",
              "      <td id=\"T_b4325_row9_col3\" class=\"data row9 col3\" >None</td>\n",
              "    </tr>\n",
              "    <tr>\n",
              "      <th id=\"T_b4325_level0_row10\" class=\"row_heading level0 row10\" >10</th>\n",
              "      <td id=\"T_b4325_row10_col0\" class=\"data row10 col0\" >min_samples_leaf</td>\n",
              "      <td id=\"T_b4325_row10_col1\" class=\"data row10 col1\" >1</td>\n",
              "      <td id=\"T_b4325_row10_col2\" class=\"data row10 col2\" >1</td>\n",
              "      <td id=\"T_b4325_row10_col3\" class=\"data row10 col3\" >1</td>\n",
              "    </tr>\n",
              "    <tr>\n",
              "      <th id=\"T_b4325_level0_row11\" class=\"row_heading level0 row11\" >11</th>\n",
              "      <td id=\"T_b4325_row11_col0\" class=\"data row11 col0\" >min_samples_split</td>\n",
              "      <td id=\"T_b4325_row11_col1\" class=\"data row11 col1\" >2</td>\n",
              "      <td id=\"T_b4325_row11_col2\" class=\"data row11 col2\" >2</td>\n",
              "      <td id=\"T_b4325_row11_col3\" class=\"data row11 col3\" >2</td>\n",
              "    </tr>\n",
              "    <tr>\n",
              "      <th id=\"T_b4325_level0_row12\" class=\"row_heading level0 row12\" >12</th>\n",
              "      <td id=\"T_b4325_row12_col0\" class=\"data row12 col0\" >min_weight_fraction_leaf</td>\n",
              "      <td id=\"T_b4325_row12_col1\" class=\"data row12 col1\" >0.000000</td>\n",
              "      <td id=\"T_b4325_row12_col2\" class=\"data row12 col2\" >0.000000</td>\n",
              "      <td id=\"T_b4325_row12_col3\" class=\"data row12 col3\" >0.000000</td>\n",
              "    </tr>\n",
              "    <tr>\n",
              "      <th id=\"T_b4325_level0_row13\" class=\"row_heading level0 row13\" >13</th>\n",
              "      <td id=\"T_b4325_row13_col0\" class=\"data row13 col0\" >n_estimators</td>\n",
              "      <td id=\"T_b4325_row13_col1\" class=\"data row13 col1\" >100</td>\n",
              "      <td id=\"T_b4325_row13_col2\" class=\"data row13 col2\" >100</td>\n",
              "      <td id=\"T_b4325_row13_col3\" class=\"data row13 col3\" >100</td>\n",
              "    </tr>\n",
              "    <tr>\n",
              "      <th id=\"T_b4325_level0_row14\" class=\"row_heading level0 row14\" >14</th>\n",
              "      <td id=\"T_b4325_row14_col0\" class=\"data row14 col0\" >n_jobs</td>\n",
              "      <td id=\"T_b4325_row14_col1\" class=\"data row14 col1\" >None</td>\n",
              "      <td id=\"T_b4325_row14_col2\" class=\"data row14 col2\" >None</td>\n",
              "      <td id=\"T_b4325_row14_col3\" class=\"data row14 col3\" >None</td>\n",
              "    </tr>\n",
              "    <tr>\n",
              "      <th id=\"T_b4325_level0_row15\" class=\"row_heading level0 row15\" >15</th>\n",
              "      <td id=\"T_b4325_row15_col0\" class=\"data row15 col0\" >oob_score</td>\n",
              "      <td id=\"T_b4325_row15_col1\" class=\"data row15 col1\" >False</td>\n",
              "      <td id=\"T_b4325_row15_col2\" class=\"data row15 col2\" >False</td>\n",
              "      <td id=\"T_b4325_row15_col3\" class=\"data row15 col3\" >False</td>\n",
              "    </tr>\n",
              "    <tr>\n",
              "      <th id=\"T_b4325_level0_row16\" class=\"row_heading level0 row16\" >16</th>\n",
              "      <td id=\"T_b4325_row16_col0\" class=\"data row16 col0\" >random_state</td>\n",
              "      <td id=\"T_b4325_row16_col1\" class=\"data row16 col1\" >None</td>\n",
              "      <td id=\"T_b4325_row16_col2\" class=\"data row16 col2\" >None</td>\n",
              "      <td id=\"T_b4325_row16_col3\" class=\"data row16 col3\" >None</td>\n",
              "    </tr>\n",
              "    <tr>\n",
              "      <th id=\"T_b4325_level0_row17\" class=\"row_heading level0 row17\" >17</th>\n",
              "      <td id=\"T_b4325_row17_col0\" class=\"data row17 col0\" >verbose</td>\n",
              "      <td id=\"T_b4325_row17_col1\" class=\"data row17 col1\" >0</td>\n",
              "      <td id=\"T_b4325_row17_col2\" class=\"data row17 col2\" >0</td>\n",
              "      <td id=\"T_b4325_row17_col3\" class=\"data row17 col3\" >0</td>\n",
              "    </tr>\n",
              "    <tr>\n",
              "      <th id=\"T_b4325_level0_row18\" class=\"row_heading level0 row18\" >18</th>\n",
              "      <td id=\"T_b4325_row18_col0\" class=\"data row18 col0\" >warm_start</td>\n",
              "      <td id=\"T_b4325_row18_col1\" class=\"data row18 col1\" >False</td>\n",
              "      <td id=\"T_b4325_row18_col2\" class=\"data row18 col2\" >False</td>\n",
              "      <td id=\"T_b4325_row18_col3\" class=\"data row18 col3\" >False</td>\n",
              "    </tr>\n",
              "  </tbody>\n",
              "</table>\n"
            ]
          },
          "metadata": {}
        },
        {
          "output_type": "stream",
          "name": "stdout",
          "text": [
            "\n",
            "\n",
            "\n"
          ]
        }
      ]
    },
    {
      "cell_type": "markdown",
      "source": [
        "## Using grid search cv to determine best parameters with GBC and then submitting models with those parameters."
      ],
      "metadata": {
        "id": "u_HuOP_sGkeI"
      }
    },
    {
      "cell_type": "code",
      "source": [
        "from sklearn.neighbors import KNeighborsClassifier\n",
        "from sklearn.svm import SVC\n",
        "from sklearn.ensemble import RandomForestClassifier\n",
        "from sklearn.ensemble import BaggingClassifier\n",
        "from sklearn.ensemble import GradientBoostingClassifier\n",
        "\n",
        "param_grid = {'n_estimators': np.arange(300, 500, 700),'max_depth':[7, 9, 11]} #np.arange creates sequence of numbers for each k value\n",
        "\n",
        "gridmodel = GridSearchCV(GradientBoostingClassifier(), param_grid=param_grid, cv=10)\n",
        "\n",
        "\n",
        "gridmodel.fit(preprocessor(X_train), y_train_labels)\n",
        "\n",
        "#extract best score and parameter by calling objects \"best_score_\" and \"best_params_\"\n",
        "print(\"best mean cross-validation score: {:.3f}\".format(gridmodel.best_score_))\n",
        "print(\"best parameters: {}\".format(gridmodel.best_params_))\n"
      ],
      "metadata": {
        "id": "4TnHA9Zv_b6Q",
        "outputId": "d1ff42f7-bf93-4335-8030-fd4ba5edb878",
        "colab": {
          "base_uri": "https://localhost:8080/"
        }
      },
      "execution_count": null,
      "outputs": [
        {
          "output_type": "stream",
          "name": "stdout",
          "text": [
            "best mean cross-validation score: 0.567\n",
            "best parameters: {'max_depth': 7, 'n_estimators': 300}\n"
          ]
        }
      ]
    },
    {
      "cell_type": "markdown",
      "source": [
        "## Using Gradient Boosting Classifier with n estimators as 300 , max depth as 7. (Version 775 and 852)"
      ],
      "metadata": {
        "id": "l07rmRLnAUmP"
      }
    },
    {
      "cell_type": "code",
      "source": [
        "# Here are several classic ML architectures you can consider choosing from to experiment with next:\n",
        "from sklearn.neighbors import KNeighborsClassifier\n",
        "from sklearn.svm import SVC\n",
        "from sklearn.ensemble import RandomForestClassifier\n",
        "from sklearn.ensemble import BaggingClassifier\n",
        "from sklearn.ensemble import GradientBoostingClassifier\n",
        "\n",
        "#Example code to fit model:\n",
        "model = GradientBoostingClassifier(n_estimators=300, learning_rate=1.0,\n",
        "    max_depth=7, random_state=0).fit(preprocessor(X_train), y_train_labels)\n",
        "model.score(preprocessor(X_train), y_train_labels)"
      ],
      "metadata": {
        "id": "r9UW3buuAU2C",
        "outputId": "df679911-9ec0-4b46-c80b-869339b14805",
        "colab": {
          "base_uri": "https://localhost:8080/"
        }
      },
      "execution_count": null,
      "outputs": [
        {
          "output_type": "execute_result",
          "data": {
            "text/plain": [
              "1.0"
            ]
          },
          "metadata": {},
          "execution_count": 292
        }
      ]
    },
    {
      "cell_type": "code",
      "source": [
        "# Save sklearn model to local ONNX file\n",
        "from aimodelshare.aimsonnx import model_to_onnx\n",
        "\n",
        "feature_count=preprocessor(X_test).shape[1] #Get count of preprocessed features\n",
        "initial_type = [('float_input', FloatTensorType([None, feature_count]))]  # Insert correct number of preprocessed features\n",
        "\n",
        "onnx_model = model_to_onnx(model, framework='sklearn',\n",
        "                          initial_types=initial_type,\n",
        "                          transfer_learning=False,\n",
        "                          deep_learning=False)\n",
        "\n",
        "with open(\"model.onnx\", \"wb\") as f:\n",
        "    f.write(onnx_model.SerializeToString())\n",
        "\n",
        "#-- Generate predicted values \n",
        "prediction_labels = model.predict(preprocessor(X_test))\n",
        "# Submit model to Competition Leaderboard\n",
        "mycompetition.submit_model(model_filepath = \"model.onnx\",\n",
        "                                 preprocessor_filepath=\"preprocessor.zip\",\n",
        "                                 prediction_submission=prediction_labels,\n",
        "                                 custom_metadata={\"team\":\"1\"})"
      ],
      "metadata": {
        "id": "d-fMD-qnAtRn",
        "outputId": "c3a487f8-296c-40e7-bba3-8e9b060e93b5",
        "colab": {
          "base_uri": "https://localhost:8080/"
        }
      },
      "execution_count": null,
      "outputs": [
        {
          "output_type": "stream",
          "name": "stdout",
          "text": [
            "Insert search tags to help users find your model (optional): .\n",
            "Provide any useful notes about your model (optional): .\n",
            "\n",
            "Your model has been submitted as model version 852\n",
            "\n",
            "To submit code used to create this model or to view current leaderboard navigate to Model Playground: \n",
            "\n",
            " https://www.modelshare.org/detail/model:3164\n"
          ]
        }
      ]
    },
    {
      "cell_type": "markdown",
      "source": [
        "## Sequential (Version 837)"
      ],
      "metadata": {
        "id": "QKRP6Rv9ZUNJ"
      }
    },
    {
      "cell_type": "code",
      "source": [
        "# Or you can experiment with deep learning models: \n",
        "import keras\n",
        "from keras.models import Sequential\n",
        "from keras.layers import Dense, Activation\n",
        "\n",
        "feature_count=preprocessor(X_train).shape[1] #count features in input data\n",
        "\n",
        "keras_model = Sequential()\n",
        "keras_model.add(Dense(128, input_dim=feature_count, activation='relu'))\n",
        "keras_model.add(Dense(64, activation='relu'))\n",
        "keras_model.add(Dense(64, activation='relu'))\n",
        "keras_model.add(Dense(32, activation='relu'))\n",
        "\n",
        "keras_model.add(Dense(5, activation='softmax')) \n",
        "                                            \n",
        "# Compile model\n",
        "keras_model.compile(loss='categorical_crossentropy', optimizer='sgd', metrics=['accuracy'])\n",
        "\n",
        "# Fitting the NN to the Training set\n",
        "keras_model.fit(preprocessor(X_train), y_train, ## Note that keras models require a one-hot-encoded y_train object\n",
        "               batch_size = 20, \n",
        "               epochs = 300, validation_split=0.25)  "
      ],
      "metadata": {
        "id": "EyoZnNMTYWJR"
      },
      "execution_count": null,
      "outputs": []
    },
    {
      "cell_type": "code",
      "source": [
        "# Save keras model to ONNX file \n",
        "\n",
        "from aimodelshare.aimsonnx import model_to_onnx\n",
        "\n",
        "onnx_model = model_to_onnx(keras_model, framework='keras',\n",
        "                          transfer_learning=False,\n",
        "                          deep_learning=True)\n",
        "\n",
        "with open(\"model.onnx\", \"wb\") as f:\n",
        "    f.write(onnx_model.SerializeToString())"
      ],
      "metadata": {
        "id": "IJsWTSAMYWMG"
      },
      "execution_count": null,
      "outputs": []
    },
    {
      "cell_type": "code",
      "source": [
        "# Submit keras model: \n",
        "\n",
        "#-- Generate predicted y values\n",
        "#Note: Keras predict returns the predicted column index location for classification models\n",
        "prediction_column_index=keras_model.predict(preprocessor(X_test)).argmax(axis=1)\n",
        "\n",
        "# extract correct prediction labels \n",
        "prediction_labels = [y_train.columns[i] for i in prediction_column_index]\n",
        "\n",
        "# Submit Model 1 to Competition Leaderboard\n",
        "mycompetition.submit_model(model_filepath = \"model.onnx\",\n",
        "                                 preprocessor_filepath=\"preprocessor.zip\",\n",
        "                                 prediction_submission=prediction_labels,\n",
        "                                  custom_metadata={\"team\":\"1\"})"
      ],
      "metadata": {
        "id": "lV7NAXi2ZYNB",
        "outputId": "a83c43a7-05f7-4131-ca03-c43dea7af56a",
        "colab": {
          "base_uri": "https://localhost:8080/"
        }
      },
      "execution_count": null,
      "outputs": [
        {
          "output_type": "stream",
          "name": "stdout",
          "text": [
            "3/3 [==============================] - 0s 3ms/step\n",
            "Insert search tags to help users find your model (optional): .\n",
            "Provide any useful notes about your model (optional): .\n",
            "\n",
            "Your model has been submitted as model version 837\n",
            "\n",
            "To submit code used to create this model or to view current leaderboard navigate to Model Playground: \n",
            "\n",
            " https://www.modelshare.org/detail/model:3164\n"
          ]
        }
      ]
    },
    {
      "cell_type": "code",
      "source": [
        "submit_model(......, custom_metadata={\"team\":\"1\"})"
      ],
      "metadata": {
        "id": "GN2VGrDtYWOv"
      },
      "execution_count": null,
      "outputs": []
    },
    {
      "cell_type": "markdown",
      "source": [
        "## Sequential(Version 838)"
      ],
      "metadata": {
        "id": "buuiFkH9bQJ8"
      }
    },
    {
      "cell_type": "code",
      "source": [
        "# Or you can experiment with deep learning models: \n",
        "import keras\n",
        "from keras.models import Sequential\n",
        "from keras.layers import Dense, Activation\n",
        "\n",
        "feature_count=preprocessor(X_train).shape[1] #count features in input data\n",
        "\n",
        "keras_model = Sequential()\n",
        "keras_model.add(Dense(128, input_dim=feature_count, activation='relu'))\n",
        "keras_model.add(Dense(64, activation='relu'))\n",
        "keras_model.add(Dense(64, activation='relu'))\n",
        "keras_model.add(Dense(32, activation='relu'))\n",
        "keras_model.add(Dense(32, activation='relu'))\n",
        "\n",
        "keras_model.add(Dense(5, activation='softmax')) \n",
        "                                            \n",
        "# Compile model\n",
        "keras_model.compile(loss='categorical_crossentropy', optimizer='sgd', metrics=['accuracy'])\n",
        "\n",
        "# Fitting the NN to the Training set\n",
        "keras_model.fit(preprocessor(X_train), y_train, ## Note that keras models require a one-hot-encoded y_train object\n",
        "               batch_size = 20, \n",
        "               epochs = 300, validation_split=0.25)  "
      ],
      "metadata": {
        "id": "rxLEM7WZYWRK"
      },
      "execution_count": null,
      "outputs": []
    },
    {
      "cell_type": "code",
      "source": [
        "# Save keras model to ONNX file \n",
        "\n",
        "from aimodelshare.aimsonnx import model_to_onnx\n",
        "\n",
        "onnx_model = model_to_onnx(keras_model, framework='keras',\n",
        "                          transfer_learning=False,\n",
        "                          deep_learning=True)\n",
        "\n",
        "with open(\"model.onnx\", \"wb\") as f:\n",
        "    f.write(onnx_model.SerializeToString())"
      ],
      "metadata": {
        "id": "sH3zxgpjaxDj"
      },
      "execution_count": null,
      "outputs": []
    },
    {
      "cell_type": "code",
      "source": [
        "# Submit keras model: \n",
        "\n",
        "#-- Generate predicted y values\n",
        "#Note: Keras predict returns the predicted column index location for classification models\n",
        "prediction_column_index=keras_model.predict(preprocessor(X_test)).argmax(axis=1)\n",
        "\n",
        "# extract correct prediction labels \n",
        "prediction_labels = [y_train.columns[i] for i in prediction_column_index]\n",
        "\n",
        "# Submit Model 1 to Competition Leaderboard\n",
        "mycompetition.submit_model(model_filepath = \"model.onnx\",\n",
        "                                 preprocessor_filepath=\"preprocessor.zip\",\n",
        "                                 prediction_submission=prediction_labels,\n",
        "                                  custom_metadata={\"team\":\"1\"})"
      ],
      "metadata": {
        "id": "R37cpq6dYWTn",
        "outputId": "b70ec22e-5f02-43b9-e8db-56bb5ef168af",
        "colab": {
          "base_uri": "https://localhost:8080/"
        }
      },
      "execution_count": null,
      "outputs": [
        {
          "output_type": "stream",
          "name": "stdout",
          "text": [
            "3/3 [==============================] - 0s 4ms/step\n",
            "Insert search tags to help users find your model (optional): .\n",
            "Provide any useful notes about your model (optional): .\n",
            "\n",
            "Your model has been submitted as model version 838\n",
            "\n",
            "To submit code used to create this model or to view current leaderboard navigate to Model Playground: \n",
            "\n",
            " https://www.modelshare.org/detail/model:3164\n"
          ]
        }
      ]
    },
    {
      "cell_type": "code",
      "source": [],
      "metadata": {
        "id": "xpJdLvp6YWV1"
      },
      "execution_count": null,
      "outputs": []
    },
    {
      "cell_type": "markdown",
      "source": [
        "## Using Gradient Boosting Classifier with n estimators as 500 , max depth as 11. (Version 485) "
      ],
      "metadata": {
        "id": "y08ozFeD_5l1"
      }
    },
    {
      "cell_type": "code",
      "source": [
        "# Here are several classic ML architectures you can consider choosing from to experiment with next:\n",
        "from sklearn.neighbors import KNeighborsClassifier\n",
        "from sklearn.svm import SVC\n",
        "from sklearn.ensemble import RandomForestClassifier\n",
        "from sklearn.ensemble import BaggingClassifier\n",
        "from sklearn.ensemble import GradientBoostingClassifier\n",
        "\n",
        "#Example code to fit model:\n",
        "model = GradientBoostingClassifier(n_estimators=500, learning_rate=1.0,\n",
        "    max_depth=11, random_state=0).fit(preprocessor(X_train), y_train_labels)\n",
        "model.score(preprocessor(X_train), y_train_labels)"
      ],
      "metadata": {
        "id": "JPWSNX0u8eB8",
        "outputId": "1e58a216-0a82-4dc4-bc77-b8445c7002ff",
        "colab": {
          "base_uri": "https://localhost:8080/"
        }
      },
      "execution_count": null,
      "outputs": [
        {
          "output_type": "execute_result",
          "data": {
            "text/plain": [
              "1.0"
            ]
          },
          "metadata": {},
          "execution_count": 71
        }
      ]
    },
    {
      "cell_type": "code",
      "metadata": {
        "id": "tukB40NshcaB",
        "colab": {
          "base_uri": "https://localhost:8080/"
        },
        "outputId": "2c71794b-9da3-4959-d5f3-78a81e4817e0"
      },
      "source": [
        "# Save sklearn model to local ONNX file\n",
        "from aimodelshare.aimsonnx import model_to_onnx\n",
        "\n",
        "feature_count=preprocessor(X_test).shape[1] #Get count of preprocessed features\n",
        "initial_type = [('float_input', FloatTensorType([None, feature_count]))]  # Insert correct number of preprocessed features\n",
        "\n",
        "onnx_model = model_to_onnx(model, framework='sklearn',\n",
        "                          initial_types=initial_type,\n",
        "                          transfer_learning=False,\n",
        "                          deep_learning=False)\n",
        "\n",
        "with open(\"model.onnx\", \"wb\") as f:\n",
        "    f.write(onnx_model.SerializeToString())\n",
        "\n",
        "#-- Generate predicted values \n",
        "prediction_labels = model.predict(preprocessor(X_test))\n",
        "# Submit model to Competition Leaderboard\n",
        "mycompetition.submit_model(model_filepath = \"model.onnx\",\n",
        "                                 preprocessor_filepath=\"preprocessor.zip\",\n",
        "                                 prediction_submission=prediction_labels)\n"
      ],
      "execution_count": null,
      "outputs": [
        {
          "output_type": "stream",
          "name": "stdout",
          "text": [
            "Insert search tags to help users find your model (optional): .\n",
            "Provide any useful notes about your model (optional): .\n",
            "\n",
            "Your model has been submitted as model version 485\n",
            "\n",
            "To submit code used to create this model or to view current leaderboard navigate to Model Playground: \n",
            "\n",
            " https://www.modelshare.org/detail/model:3164\n"
          ]
        }
      ]
    },
    {
      "cell_type": "code",
      "source": [
        "# Check leaderboard \n",
        "\n",
        "data = mycompetition.get_leaderboard()\n",
        "mycompetition.stylize_leaderboard(data)"
      ],
      "metadata": {
        "id": "iJx55KPXu4DI"
      },
      "execution_count": null,
      "outputs": []
    },
    {
      "cell_type": "markdown",
      "source": [
        "# The best models out of the many I have tried here before and after discussion with my team are the Model using Random Forest Classifier using n_estimators as 300 and max_depth as 7, the Gradient Boosting Classifier using n_estimators as 300 and max_depth as 7 and the Sequential Model with 128,64,64,32,5 neurons. I tried using different values of n_estimators and max_depths(3,5,6,7) in the Random Forest and Gradient Boosting Models (100,300,400) and experimented with a sequential model with more hidden layers. The Random Forest Model with n estimators as 100 and max depth as 5 also performed well. Gridsearch was used to determine the best parameters. My best model has an accuracy score of 52.94%, an f1 score of 51.25 %, precision of 65.11% and recall 55.29%. It is a Random Forest Classifier with n estimators as 300 and max_depth as 7."
      ],
      "metadata": {
        "id": "v097CAH-fYKX"
      }
    },
    {
      "cell_type": "markdown",
      "source": [
        "## Link to Github: https://github.com/arushisaranath/World-Happiness-Report/blob/main/World_Happiness_Report.ipynb"
      ],
      "metadata": {
        "id": "fZqrjeQXmW2Z"
      }
    }
  ]
}